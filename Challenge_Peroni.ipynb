{
  "cells": [
    {
      "cell_type": "markdown",
      "metadata": {},
      "source": [
        "## JR DATA SCIENTIST \n",
        "### Lena Valeska Peroni\n",
        "### Mail: lena.peroni@gmail.com\n",
        "\n",
        "El objetivo de este trabajo es analizar un dataset de interacciones de usuarios con la pagina de Google Store. Se realizara un analisis exploratorio de los datos y luego se intentara estimar la probabilidad de que un usuario convierta."
      ]
    },
    {
      "cell_type": "code",
      "execution_count": 274,
      "metadata": {
        "id": "GD7Ig5H_uNGh"
      },
      "outputs": [],
      "source": [
        "#Importo las librerias a usar\n",
        "import pandas as pd\n",
        "import matplotlib.pyplot as plt\n",
        "import numpy as np\n",
        "import matplotlib.dates as mdates \n",
        "import seaborn as sns\n",
        "from operator import attrgetter\n",
        "import matplotlib.colors as mcolors\n",
        "import plotly.graph_objects as go\n",
        "from plotly.offline import iplot\n",
        "\n",
        "from sklearn.ensemble import RandomForestClassifier # Random forests para decisión\n",
        "\n",
        "# Módulos utiles para evaluar el modelo \n",
        "from sklearn.model_selection import train_test_split # Para separar en train y test\n",
        "from sklearn.model_selection import cross_val_score \n",
        "from sklearn.model_selection import GridSearchCV\n",
        "\n",
        "\n",
        "from sklearn.metrics import accuracy_score, precision_score, recall_score\n",
        "from sklearn.metrics import brier_score_loss\n",
        "\n"
      ]
    },
    {
      "cell_type": "markdown",
      "metadata": {},
      "source": [
        "### Exploramos y limpiamos los datos\n",
        "\n",
        "Cargamos los datos y luego de un analisis exploratorio vemos que hay varias columnas con NANs, las completamos con 0. En este caso tiene sentido por el tipo de datos que manejamos (si estuvieramos trabajando con edades por ejemplo deberiamos completarlo de otra manera.) Cambiamos el tipo de algunos datos para que coincida con el dtype de la consigna. Cambiamos la fecha a datetime para poder usar metodos de tiempo."
      ]
    },
    {
      "cell_type": "code",
      "execution_count": 275,
      "metadata": {
        "id": "yMJcd74nkCIp"
      },
      "outputs": [
        {
          "name": "stderr",
          "output_type": "stream",
          "text": [
            "/tmp/ipykernel_135498/2619749747.py:2: DtypeWarning:\n",
            "\n",
            "Columns (0) have mixed types. Specify dtype option on import or set low_memory=False.\n",
            "\n"
          ]
        }
      ],
      "source": [
        "fileName = 'data.csv'\n",
        "data = pd.read_csv(fileName, sep = \",\")"
      ]
    },
    {
      "cell_type": "markdown",
      "metadata": {},
      "source": [
        "Se sabe que el total de las ventas suele venir de un pequeño numero de clientes. Es interesante entonces poder predecir si un cliente o no comprara. Luego se puede analizar los atributos de los clientes que compran y tomar decisiones de marketing orientadas. Por ejemplo se puede segmentar el publico y hacer campañas orientadas a los posibles compradores y otras a los clientes que no suelen comprar."
      ]
    },
    {
      "cell_type": "code",
      "execution_count": 276,
      "metadata": {},
      "outputs": [
        {
          "name": "stdout",
          "output_type": "stream",
          "text": [
            "Total de registros:  392892 registros que no convierten:  387615\n",
            "Number of unique customers with non-zero revenue :  4841 and the ratio is :  0.014905153223497246\n"
          ]
        }
      ],
      "source": [
        "print('Total de registros: ', len(data), 'registros que no convierten: ',data['transactionRevenue'].isna().sum())\n",
        "gdf = data.groupby(\"fullVisitorID\")[\"transactionRevenue\"].sum().reset_index()\n",
        "nzr = (gdf[\"transactionRevenue\"]>0).sum()\n",
        "print(\"Number of unique customers with non-zero revenue : \", nzr, \"and the ratio is : \", nzr / gdf.shape[0])"
      ]
    },
    {
      "cell_type": "markdown",
      "metadata": {},
      "source": [
        "Ya en esta instancia podemos ver que de todas las instancias de ingreso de a la pagina solo un pequeñisimo numero termina en compra. "
      ]
    },
    {
      "cell_type": "code",
      "execution_count": 277,
      "metadata": {},
      "outputs": [
        {
          "name": "stdout",
          "output_type": "stream",
          "text": [
            "<class 'pandas.core.frame.DataFrame'>\n",
            "RangeIndex: 392892 entries, 0 to 392891\n",
            "Data columns (total 15 columns):\n",
            " #   Column              Non-Null Count   Dtype  \n",
            "---  ------              --------------   -----  \n",
            " 0   fullVisitorID       392892 non-null  object \n",
            " 1   visitNumber         392892 non-null  int64  \n",
            " 2   date                392892 non-null  int64  \n",
            " 3   bounces             392892 non-null  float64\n",
            " 4   hits                392892 non-null  int64  \n",
            " 5   pageviews           392856 non-null  float64\n",
            " 6   timeOnSite          392892 non-null  float64\n",
            " 7   transactionRevenue  392892 non-null  float64\n",
            " 8   transactions        392892 non-null  float64\n",
            " 9   source              392892 non-null  object \n",
            " 10  channelGrouping     392892 non-null  object \n",
            " 11  browser             392892 non-null  object \n",
            " 12  deviceCategory      392892 non-null  object \n",
            " 13  country             392892 non-null  object \n",
            " 14  city                392892 non-null  object \n",
            "dtypes: float64(5), int64(3), object(7)\n",
            "memory usage: 45.0+ MB\n"
          ]
        }
      ],
      "source": [
        "#Me fijo que columnas tienen missing values y los completo con 0\n",
        "data.fillna({'bounces' : 0,'timeOnSite':0, 'transactionRevenue':0,'transactions':0, \"pageViews\":0}, inplace=True) \n",
        "data.info()"
      ]
    },
    {
      "cell_type": "markdown",
      "metadata": {},
      "source": [
        "El objetivo de este ejercicio es estimar si un usuario va a comprar o no. A manera de simplificar los datos para el modelo trabajamos con una variable conversionBool que es un booleano que indica si un dado usuario convirtio o no. De esta manera los usuarios pueden clasificarse en dos tipos (compra/no compra)."
      ]
    },
    {
      "cell_type": "code",
      "execution_count": 278,
      "metadata": {},
      "outputs": [],
      "source": [
        "#Me interesa si un dado visitor convirtio (es decir, realizo una transaccion) o no. Creo una columna de booleanos (1 o 0) que me indique si convirtio (1) o no (0)\n",
        "data['conversionBool'] = np.where(data['transactions'] > 0, 1, 0)"
      ]
    },
    {
      "cell_type": "code",
      "execution_count": 279,
      "metadata": {},
      "outputs": [],
      "source": [
        "#Preprocesamiento de los datos para que esten en el formato requerido.\n",
        "\n",
        "data['date'] = data['date'].apply(lambda x: pd.to_datetime(str(x), format='%Y%m%d')) \n",
        "data['transactionRevenue'] = data['transactionRevenue'].astype('float')\n",
        "data['transactions'] = data['transactions'].astype('float')\n",
        "data['fullVisitorID'] = data['fullVisitorID'].astype('string') #Por si el ID empezara en 0 para que no se confunda con otro (por ejemplo 01 y 1 son usuarios diferentes)"
      ]
    },
    {
      "cell_type": "markdown",
      "metadata": {},
      "source": [
        "Para entender el comportamiento de los usuarios me interesa dividirlos en categorias. En este caso divido a los clientes en cohortes segun la primera fecha de ingreso a la pagina.\n",
        "Me interesa seguir el comportameinto de esos clientes a lo largo del tiempo.  "
      ]
    },
    {
      "cell_type": "code",
      "execution_count": 280,
      "metadata": {},
      "outputs": [],
      "source": [
        "data['Month'] = data['date'].dt.to_period('M') #Obtengo el mes correspondiente al registro\n",
        "data['cohort'] = data.groupby('fullVisitorID')['date'].transform('min').dt.to_period('M') #De todas las fechas en la que entra un cliente me quedo con la primera\n",
        "data['login_date'] = data.groupby('fullVisitorID')['date'].transform('min')\n",
        "#data['timeSinceLogin'] = data['date'] - data['login_date'] "
      ]
    },
    {
      "cell_type": "code",
      "execution_count": 281,
      "metadata": {},
      "outputs": [],
      "source": [
        "df_cohort = data.groupby(['cohort', 'Month']).agg(n_customers=('fullVisitorID', 'nunique')).reset_index(drop=False)\n",
        "df_cohort['period_number'] = (df_cohort.Month - df_cohort.cohort).apply(attrgetter('n'))\n",
        "\n",
        "cohort_pivot = df_cohort.pivot_table(index = 'cohort',\n",
        "                                     columns = 'period_number',\n",
        "                                     values = 'n_customers')\n",
        "\n",
        "cohort_size = cohort_pivot.iloc[:,0]\n",
        "retention_matrix = cohort_pivot.divide(cohort_size, axis = 0)"
      ]
    },
    {
      "cell_type": "code",
      "execution_count": 282,
      "metadata": {},
      "outputs": [],
      "source": [
        "sorted_data = data.sort_values(\"date\")\n",
        "sorted_data = sorted_data[sorted_data['transactions'] != 0]\n",
        "purchase = sorted_data.groupby('fullVisitorID').agg({'date':min, 'login_date':min})\n",
        "purchase.reset_index(level=['fullVisitorID'], inplace=True)\n",
        "purchase['loginToPurchase'] = (purchase['date'] - purchase['login_date']).dt.days\n",
        "\n",
        "data['loginToPurchase'] = data['fullVisitorID'].map(purchase.set_index('fullVisitorID')['loginToPurchase'])\n"
      ]
    },
    {
      "cell_type": "markdown",
      "metadata": {},
      "source": [
        "Me interesa predecir si un cliente en particular va a comprar o no entonces agrupo los datos por cliente. Para las variables numericas considero la suma de todas sus interacciones en la pagina como indicadora de su comportamiento. Del analisis de cohortes se puede ver que la retencion de usuarios es minima, entonces se estima que el proceso de compra se dara en una ventana temporal corta, de aproximadamente una semana. De esta manera no me parece erroneo sumar todas las interacciones del usuario y considerarlas parte del mismo proceso de compra ya que no estan tan alejadas en el tiempo. "
      ]
    },
    {
      "cell_type": "code",
      "execution_count": 283,
      "metadata": {},
      "outputs": [],
      "source": [
        "#Agrego los datos para cada cliente particular\n",
        "#Cuando el analisis se hace con la moda, habiendo mas de una moda posible se elige el primer valor que es devuelto\n",
        "client_data = data.groupby('fullVisitorID').agg({'visitNumber': 'sum', \n",
        "                                        'bounces': 'sum',\n",
        "                                        'hits': 'sum', \n",
        "                                        'pageviews':'sum',\n",
        "                                        'timeOnSite': 'sum',\n",
        "                                        'transactionRevenue': 'sum',\n",
        "                                        'transactions': 'sum', \n",
        "                                        'source':lambda x: x.mode().iloc[0], \n",
        "                                        'country':lambda x: x.mode().iloc[0],\n",
        "                                        'channelGrouping':lambda x: x.mode().iloc[0], \n",
        "                                        'conversionBool':'max',\n",
        "                                        'cohort':'min',\n",
        "                                        'loginToPurchase':min})"
      ]
    },
    {
      "cell_type": "code",
      "execution_count": 284,
      "metadata": {},
      "outputs": [],
      "source": [
        "dictClientData = {'visitNumber': 'totalVisits',\t'bounces':'totalBounced'}\n",
        "client_data.rename(columns = dictClientData, inplace = True)\n",
        "client_data.reset_index(level=['fullVisitorID'], inplace=True)\n",
        "\n",
        "#client_data.describe().transpose()\n"
      ]
    },
    {
      "cell_type": "markdown",
      "metadata": {},
      "source": [
        "### Visualizacion"
      ]
    },
    {
      "cell_type": "markdown",
      "metadata": {},
      "source": [
        "Hacemos un analisis de correlacion entre variables para ver cuales pueden ser buenos predictores de la compra y cuales son redundantes. Vemos que hits, pageviews y time on site son buenos candidatos para predecir a conversionBool."
      ]
    },
    {
      "cell_type": "code",
      "execution_count": 285,
      "metadata": {},
      "outputs": [
        {
          "data": {
            "text/plain": [
              "<AxesSubplot:>"
            ]
          },
          "execution_count": 285,
          "metadata": {},
          "output_type": "execute_result"
        },
        {
          "data": {
            "image/png": "[encoded data removed]",
            "text/plain": [
              "<Figure size 720x720 with 2 Axes>"
            ]
          },
          "metadata": {},
          "output_type": "display_data"
        }
      ],
      "source": [
        "fig, ax = plt.subplots(figsize=(10,10)) \n",
        "sns.heatmap(client_data.corr(), cmap=\"YlGnBu\", annot=True)"
      ]
    },
    {
      "cell_type": "code",
      "execution_count": 286,
      "metadata": {},
      "outputs": [
        {
          "data": {
            "image/png": "[encoded data removed]",
            "text/plain": [
              "<Figure size 1080x576 with 2 Axes>"
            ]
          },
          "metadata": {},
          "output_type": "display_data"
        }
      ],
      "source": [
        "plot_df = data.groupby(by=['date']).agg({'fullVisitorID':'count','transactionRevenue':'sum'}).reset_index()\n",
        "\n",
        "fig = plt.figure(figsize=(15,8))\n",
        "plt.subplot(2,1,1)\n",
        "plt.plot(pd.to_datetime(plot_df['date']),plot_df['transactionRevenue'])\n",
        "plt.ylabel('Revenue')\n",
        "plt.xticks(rotation=90)\n",
        "\n",
        "plt.subplot(2,1,2)\n",
        "plt.plot(pd.to_datetime(plot_df['date']),plot_df['fullVisitorID'])\n",
        "plt.ylabel('Visits')\n",
        "plt.xticks(rotation=90);\n",
        "\n",
        "for ax in fig.axes:\n",
        "    plt.sca(ax)\n",
        "    plt.xticks(rotation=90)\n"
      ]
    },
    {
      "cell_type": "markdown",
      "metadata": {},
      "source": [
        "Analizamos la ganancia total por dia y asimismo analizo el total de visitas ese dia. Vemos que en febrero y en abril hay dos picos de ganancia. Se podria analizar si estos picos se corresponden con campañas de publicidad o descuentos y de esta manera se verifica que fueron exitosos. Tambien podria explicarse el pico de ganancias en febrero relacionado con una fecha especial de alto consumo (san valentin). \n",
        "\n",
        "Se ve en el numero de visitas que hay un pequeño lag correspondiente a un pico de visitas a fines de enero y un pico de compras en febrero. Esto tiene sentido con el analisis previo que se hizo en el que se considera los periodos de compra como durando aproximadamente 7-10 dias.\n"
      ]
    },
    {
      "cell_type": "code",
      "execution_count": 287,
      "metadata": {},
      "outputs": [
        {
          "data": {
            "image/png": "[encoded data removed]",
            "text/plain": [
              "<Figure size 864x576 with 3 Axes>"
            ]
          },
          "metadata": {},
          "output_type": "display_data"
        }
      ],
      "source": [
        "with sns.axes_style(\"white\"):\n",
        "    fig, ax = plt.subplots(1, 2, figsize=(12, 8), sharey=True, gridspec_kw={'width_ratios': [1, 11]})\n",
        "    \n",
        "    # retention matrix\n",
        "    sns.heatmap(retention_matrix, \n",
        "                mask=retention_matrix.isnull(), \n",
        "                annot=True, \n",
        "                fmt='.0%', \n",
        "                cmap='RdYlGn', \n",
        "                ax=ax[1])\n",
        "    ax[1].set_title('Monthly Cohorts: User Retention', fontsize=16)\n",
        "    ax[1].set(xlabel='# of periods',\n",
        "              ylabel='')\n",
        "\n",
        "    # cohort size\n",
        "    cohort_size_df = pd.DataFrame(cohort_size).rename(columns={0: 'cohort_size'})\n",
        "    white_cmap = mcolors.ListedColormap(['white'])\n",
        "    sns.heatmap(cohort_size_df, \n",
        "                annot=True, \n",
        "                cbar=False, \n",
        "                fmt='g', \n",
        "                cmap=white_cmap, \n",
        "                ax=ax[0])\n",
        "\n",
        "    fig.tight_layout()"
      ]
    },
    {
      "cell_type": "markdown",
      "metadata": {},
      "source": [
        "En el analisis de la retencion resulta evidente que la retencion de los usuarios es baja. Despues del primer mes la retencion cae drasticamente, con solo el 3% de los clientes aproximadamente volviendo a entrar a la pagina. Para todos los cohortes esta tendencia a baja retencion se mantiene. "
      ]
    },
    {
      "cell_type": "code",
      "execution_count": 288,
      "metadata": {},
      "outputs": [
        {
          "data": {
            "application/vnd.plotly.v1+json": {
              "config": {
                "linkText": "Export to plot.ly",
                "plotlyServerURL": "https://plot.ly",
                "showLink": false
              },
              "data": [
                {
                  "mode": "lines",
                  "name": "Organic Search",
                  "type": "scatter",
                  "x": [
                    "2017-01-01T00:00:00",
                    "2017-01-02T00:00:00",
                    "2017-01-03T00:00:00",
                    "2017-01-04T00:00:00",
                    "2017-01-05T00:00:00",
                    "2017-01-06T00:00:00",
                    "2017-01-07T00:00:00",
                    "2017-01-08T00:00:00",
                    "2017-01-09T00:00:00",
                    "2017-01-10T00:00:00",
                    "2017-01-11T00:00:00",
                    "2017-01-12T00:00:00",
                    "2017-01-13T00:00:00",
                    "2017-01-14T00:00:00",
                    "2017-01-15T00:00:00",
                    "2017-01-16T00:00:00",
                    "2017-01-17T00:00:00",
                    "2017-01-18T00:00:00",
                    "2017-01-19T00:00:00",
                    "2017-01-20T00:00:00",
                    "2017-01-21T00:00:00",
                    "2017-01-22T00:00:00",
                    "2017-01-23T00:00:00",
                    "2017-01-24T00:00:00",
                    "2017-01-25T00:00:00",
                    "2017-01-26T00:00:00",
                    "2017-01-27T00:00:00",
                    "2017-01-28T00:00:00",
                    "2017-01-29T00:00:00",
                    "2017-01-30T00:00:00",
                    "2017-01-31T00:00:00",
                    "2017-02-01T00:00:00",
                    "2017-02-02T00:00:00",
                    "2017-02-03T00:00:00",
                    "2017-02-04T00:00:00",
                    "2017-02-05T00:00:00",
                    "2017-02-06T00:00:00",
                    "2017-02-07T00:00:00",
                    "2017-02-08T00:00:00",
                    "2017-02-09T00:00:00",
                    "2017-02-10T00:00:00",
                    "2017-02-11T00:00:00",
                    "2017-02-12T00:00:00",
                    "2017-02-13T00:00:00",
                    "2017-02-14T00:00:00",
                    "2017-02-15T00:00:00",
                    "2017-02-16T00:00:00",
                    "2017-02-17T00:00:00",
                    "2017-02-18T00:00:00",
                    "2017-02-19T00:00:00",
                    "2017-02-20T00:00:00",
                    "2017-02-21T00:00:00",
                    "2017-02-22T00:00:00",
                    "2017-02-23T00:00:00",
                    "2017-02-24T00:00:00",
                    "2017-02-25T00:00:00",
                    "2017-02-26T00:00:00",
                    "2017-02-27T00:00:00",
                    "2017-02-28T00:00:00",
                    "2017-03-01T00:00:00",
                    "2017-03-02T00:00:00",
                    "2017-03-03T00:00:00",
                    "2017-03-04T00:00:00",
                    "2017-03-05T00:00:00",
                    "2017-03-06T00:00:00",
                    "2017-03-07T00:00:00",
                    "2017-03-08T00:00:00",
                    "2017-03-09T00:00:00",
                    "2017-03-10T00:00:00",
                    "2017-03-11T00:00:00",
                    "2017-03-12T00:00:00",
                    "2017-03-13T00:00:00",
                    "2017-03-14T00:00:00",
                    "2017-03-15T00:00:00",
                    "2017-03-16T00:00:00",
                    "2017-03-17T00:00:00",
                    "2017-03-18T00:00:00",
                    "2017-03-19T00:00:00",
                    "2017-03-20T00:00:00",
                    "2017-03-21T00:00:00",
                    "2017-03-22T00:00:00",
                    "2017-03-23T00:00:00",
                    "2017-03-24T00:00:00",
                    "2017-03-25T00:00:00",
                    "2017-03-26T00:00:00",
                    "2017-03-27T00:00:00",
                    "2017-03-28T00:00:00",
                    "2017-03-29T00:00:00",
                    "2017-03-30T00:00:00",
                    "2017-03-31T00:00:00",
                    "2017-04-01T00:00:00",
                    "2017-04-02T00:00:00",
                    "2017-04-03T00:00:00",
                    "2017-04-04T00:00:00",
                    "2017-04-05T00:00:00",
                    "2017-04-06T00:00:00",
                    "2017-04-07T00:00:00",
                    "2017-04-08T00:00:00",
                    "2017-04-09T00:00:00",
                    "2017-04-10T00:00:00",
                    "2017-04-11T00:00:00",
                    "2017-04-12T00:00:00",
                    "2017-04-13T00:00:00",
                    "2017-04-14T00:00:00",
                    "2017-04-15T00:00:00",
                    "2017-04-16T00:00:00",
                    "2017-04-17T00:00:00",
                    "2017-04-18T00:00:00",
                    "2017-04-19T00:00:00",
                    "2017-04-20T00:00:00",
                    "2017-04-21T00:00:00",
                    "2017-04-22T00:00:00",
                    "2017-04-23T00:00:00",
                    "2017-04-24T00:00:00",
                    "2017-04-25T00:00:00",
                    "2017-04-26T00:00:00",
                    "2017-04-27T00:00:00",
                    "2017-04-28T00:00:00",
                    "2017-04-29T00:00:00",
                    "2017-04-30T00:00:00",
                    "2017-05-01T00:00:00",
                    "2017-05-02T00:00:00",
                    "2017-05-03T00:00:00",
                    "2017-05-04T00:00:00",
                    "2017-05-05T00:00:00",
                    "2017-05-06T00:00:00",
                    "2017-05-07T00:00:00",
                    "2017-05-08T00:00:00",
                    "2017-05-09T00:00:00",
                    "2017-05-10T00:00:00",
                    "2017-05-11T00:00:00",
                    "2017-05-12T00:00:00",
                    "2017-05-13T00:00:00",
                    "2017-05-14T00:00:00",
                    "2017-05-15T00:00:00",
                    "2017-05-16T00:00:00",
                    "2017-05-17T00:00:00",
                    "2017-05-18T00:00:00",
                    "2017-05-19T00:00:00",
                    "2017-05-20T00:00:00",
                    "2017-05-21T00:00:00",
                    "2017-05-22T00:00:00",
                    "2017-05-23T00:00:00",
                    "2017-05-24T00:00:00",
                    "2017-05-25T00:00:00",
                    "2017-05-26T00:00:00",
                    "2017-05-27T00:00:00",
                    "2017-05-28T00:00:00",
                    "2017-05-29T00:00:00",
                    "2017-05-30T00:00:00",
                    "2017-05-31T00:00:00",
                    "2017-06-01T00:00:00",
                    "2017-06-02T00:00:00",
                    "2017-06-03T00:00:00",
                    "2017-06-04T00:00:00",
                    "2017-06-05T00:00:00",
                    "2017-06-06T00:00:00",
                    "2017-06-07T00:00:00",
                    "2017-06-08T00:00:00",
                    "2017-06-09T00:00:00",
                    "2017-06-10T00:00:00",
                    "2017-06-11T00:00:00",
                    "2017-06-12T00:00:00",
                    "2017-06-13T00:00:00",
                    "2017-06-14T00:00:00",
                    "2017-06-15T00:00:00",
                    "2017-06-16T00:00:00",
                    "2017-06-17T00:00:00",
                    "2017-06-18T00:00:00",
                    "2017-06-19T00:00:00",
                    "2017-06-20T00:00:00",
                    "2017-06-21T00:00:00",
                    "2017-06-22T00:00:00",
                    "2017-06-23T00:00:00",
                    "2017-06-24T00:00:00",
                    "2017-06-25T00:00:00",
                    "2017-06-26T00:00:00",
                    "2017-06-27T00:00:00",
                    "2017-06-28T00:00:00",
                    "2017-06-29T00:00:00",
                    "2017-06-30T00:00:00"
                  ],
                  "y": [
                    180.9,
                    574.56,
                    400.06,
                    668.76,
                    1071.31,
                    287.74,
                    59.97,
                    805.12,
                    2800.41,
                    1437.26,
                    192.70999999999998,
                    49.98,
                    462.03999999999996,
                    235.86999999999998,
                    106.89,
                    186.4,
                    1180.74,
                    1233.23,
                    418.33,
                    1049.13,
                    521.73,
                    88.96,
                    706.4200000000001,
                    381.64,
                    799.34,
                    397.26,
                    106.81,
                    31.98,
                    498.24,
                    979.18,
                    3312.5099999999998,
                    1172.86,
                    1620.47,
                    772.81,
                    304.86,
                    160.39,
                    607.87,
                    647.42,
                    1643.48,
                    1145.86,
                    132.89,
                    593.47,
                    254.82,
                    654.72,
                    791.3199999999999,
                    798.1999999999999,
                    811.9300000000001,
                    146.54,
                    97.42,
                    512.82,
                    190.29,
                    1353.73,
                    829.6899999999999,
                    689.87,
                    907.66,
                    18.97,
                    249.41,
                    670.73,
                    1374.51,
                    1849.8600000000001,
                    1920.89,
                    617.4399999999999,
                    412.06,
                    1117.5,
                    1750.72,
                    509.61,
                    1332.8400000000001,
                    387.63,
                    1231.4499999999998,
                    198.8,
                    166.84,
                    1560.02,
                    1481.6100000000001,
                    1843.6100000000001,
                    1687.29,
                    880.31,
                    614.89,
                    559.59,
                    1319,
                    863.31,
                    1252.28,
                    4532.129999999999,
                    919.92,
                    512.79,
                    190.92,
                    1984.7199999999998,
                    929.8399999999999,
                    2040.28,
                    646.61,
                    1968.3899999999999,
                    95.78,
                    97.50999999999999,
                    1628.93,
                    947.6800000000001,
                    1384.9,
                    615.75,
                    1369.65,
                    586.1,
                    525.46,
                    1827.6200000000001,
                    820.5799999999999,
                    920.12,
                    649.0699999999999,
                    784.92,
                    209.56,
                    168.91,
                    1852.37,
                    1710.3899999999999,
                    848.42,
                    1340.03,
                    1089.1399999999999,
                    175.71,
                    285.19,
                    485.33,
                    778.65,
                    1835.89,
                    1093.45,
                    346.41,
                    380.73,
                    1193.08,
                    1083.75,
                    714.72,
                    1174.81,
                    609.98,
                    863.49,
                    325.2,
                    288.99,
                    2798.43,
                    1785.02,
                    1686.8600000000001,
                    937.16,
                    582.27,
                    456.87,
                    415.41999999999996,
                    1457.0900000000001,
                    1745.56,
                    628.9399999999999,
                    1301.33,
                    1727.8899999999999,
                    145.66,
                    241.02,
                    125.96,
                    1068.94,
                    662.48,
                    1003.01,
                    108.97,
                    483.92,
                    29.49,
                    299.78999999999996,
                    3089.8599999999997,
                    906.88,
                    695.23,
                    475.38,
                    74.91,
                    192.14,
                    1083.95,
                    802.76,
                    644.55,
                    91.91,
                    893.52,
                    124.98,
                    695.34,
                    4816.29,
                    1346.58,
                    1808.42,
                    839.5,
                    809.32,
                    1475.43,
                    267.15,
                    7323.81,
                    774.91,
                    523.66,
                    784.4399999999999,
                    205.85,
                    206.27,
                    196.79000000000002,
                    878.1,
                    1412.65,
                    811.26,
                    1793.73,
                    1082.9299999999998
                  ]
                },
                {
                  "mode": "lines",
                  "name": "Direct",
                  "type": "scatter",
                  "x": [
                    "2017-01-01T00:00:00",
                    "2017-01-02T00:00:00",
                    "2017-01-03T00:00:00",
                    "2017-01-04T00:00:00",
                    "2017-01-05T00:00:00",
                    "2017-01-06T00:00:00",
                    "2017-01-07T00:00:00",
                    "2017-01-08T00:00:00",
                    "2017-01-09T00:00:00",
                    "2017-01-10T00:00:00",
                    "2017-01-11T00:00:00",
                    "2017-01-12T00:00:00",
                    "2017-01-13T00:00:00",
                    "2017-01-14T00:00:00",
                    "2017-01-15T00:00:00",
                    "2017-01-16T00:00:00",
                    "2017-01-17T00:00:00",
                    "2017-01-18T00:00:00",
                    "2017-01-19T00:00:00",
                    "2017-01-20T00:00:00",
                    "2017-01-21T00:00:00",
                    "2017-01-22T00:00:00",
                    "2017-01-23T00:00:00",
                    "2017-01-24T00:00:00",
                    "2017-01-25T00:00:00",
                    "2017-01-26T00:00:00",
                    "2017-01-27T00:00:00",
                    "2017-01-28T00:00:00",
                    "2017-01-29T00:00:00",
                    "2017-01-30T00:00:00",
                    "2017-01-31T00:00:00",
                    "2017-02-01T00:00:00",
                    "2017-02-02T00:00:00",
                    "2017-02-03T00:00:00",
                    "2017-02-04T00:00:00",
                    "2017-02-05T00:00:00",
                    "2017-02-06T00:00:00",
                    "2017-02-07T00:00:00",
                    "2017-02-08T00:00:00",
                    "2017-02-09T00:00:00",
                    "2017-02-10T00:00:00",
                    "2017-02-11T00:00:00",
                    "2017-02-12T00:00:00",
                    "2017-02-13T00:00:00",
                    "2017-02-14T00:00:00",
                    "2017-02-15T00:00:00",
                    "2017-02-16T00:00:00",
                    "2017-02-17T00:00:00",
                    "2017-02-18T00:00:00",
                    "2017-02-19T00:00:00",
                    "2017-02-20T00:00:00",
                    "2017-02-21T00:00:00",
                    "2017-02-22T00:00:00",
                    "2017-02-23T00:00:00",
                    "2017-02-24T00:00:00",
                    "2017-02-25T00:00:00",
                    "2017-02-26T00:00:00",
                    "2017-02-27T00:00:00",
                    "2017-02-28T00:00:00",
                    "2017-03-01T00:00:00",
                    "2017-03-02T00:00:00",
                    "2017-03-03T00:00:00",
                    "2017-03-04T00:00:00",
                    "2017-03-05T00:00:00",
                    "2017-03-06T00:00:00",
                    "2017-03-07T00:00:00",
                    "2017-03-08T00:00:00",
                    "2017-03-09T00:00:00",
                    "2017-03-10T00:00:00",
                    "2017-03-11T00:00:00",
                    "2017-03-12T00:00:00",
                    "2017-03-13T00:00:00",
                    "2017-03-14T00:00:00",
                    "2017-03-15T00:00:00",
                    "2017-03-16T00:00:00",
                    "2017-03-17T00:00:00",
                    "2017-03-18T00:00:00",
                    "2017-03-19T00:00:00",
                    "2017-03-20T00:00:00",
                    "2017-03-21T00:00:00",
                    "2017-03-22T00:00:00",
                    "2017-03-23T00:00:00",
                    "2017-03-24T00:00:00",
                    "2017-03-25T00:00:00",
                    "2017-03-26T00:00:00",
                    "2017-03-27T00:00:00",
                    "2017-03-28T00:00:00",
                    "2017-03-29T00:00:00",
                    "2017-03-30T00:00:00",
                    "2017-03-31T00:00:00",
                    "2017-04-01T00:00:00",
                    "2017-04-02T00:00:00",
                    "2017-04-03T00:00:00",
                    "2017-04-04T00:00:00",
                    "2017-04-05T00:00:00",
                    "2017-04-06T00:00:00",
                    "2017-04-07T00:00:00",
                    "2017-04-08T00:00:00",
                    "2017-04-09T00:00:00",
                    "2017-04-10T00:00:00",
                    "2017-04-11T00:00:00",
                    "2017-04-12T00:00:00",
                    "2017-04-13T00:00:00",
                    "2017-04-14T00:00:00",
                    "2017-04-15T00:00:00",
                    "2017-04-16T00:00:00",
                    "2017-04-17T00:00:00",
                    "2017-04-18T00:00:00",
                    "2017-04-19T00:00:00",
                    "2017-04-20T00:00:00",
                    "2017-04-21T00:00:00",
                    "2017-04-22T00:00:00",
                    "2017-04-23T00:00:00",
                    "2017-04-24T00:00:00",
                    "2017-04-25T00:00:00",
                    "2017-04-26T00:00:00",
                    "2017-04-27T00:00:00",
                    "2017-04-28T00:00:00",
                    "2017-04-29T00:00:00",
                    "2017-04-30T00:00:00",
                    "2017-05-01T00:00:00",
                    "2017-05-02T00:00:00",
                    "2017-05-03T00:00:00",
                    "2017-05-04T00:00:00",
                    "2017-05-05T00:00:00",
                    "2017-05-06T00:00:00",
                    "2017-05-07T00:00:00",
                    "2017-05-08T00:00:00",
                    "2017-05-09T00:00:00",
                    "2017-05-10T00:00:00",
                    "2017-05-11T00:00:00",
                    "2017-05-12T00:00:00",
                    "2017-05-13T00:00:00",
                    "2017-05-14T00:00:00",
                    "2017-05-15T00:00:00",
                    "2017-05-16T00:00:00",
                    "2017-05-17T00:00:00",
                    "2017-05-18T00:00:00",
                    "2017-05-19T00:00:00",
                    "2017-05-20T00:00:00",
                    "2017-05-21T00:00:00",
                    "2017-05-22T00:00:00",
                    "2017-05-23T00:00:00",
                    "2017-05-24T00:00:00",
                    "2017-05-25T00:00:00",
                    "2017-05-26T00:00:00",
                    "2017-05-27T00:00:00",
                    "2017-05-28T00:00:00",
                    "2017-05-29T00:00:00",
                    "2017-05-30T00:00:00",
                    "2017-05-31T00:00:00",
                    "2017-06-01T00:00:00",
                    "2017-06-02T00:00:00",
                    "2017-06-03T00:00:00",
                    "2017-06-04T00:00:00",
                    "2017-06-05T00:00:00",
                    "2017-06-06T00:00:00",
                    "2017-06-07T00:00:00",
                    "2017-06-08T00:00:00",
                    "2017-06-09T00:00:00",
                    "2017-06-10T00:00:00",
                    "2017-06-11T00:00:00",
                    "2017-06-12T00:00:00",
                    "2017-06-13T00:00:00",
                    "2017-06-14T00:00:00",
                    "2017-06-15T00:00:00",
                    "2017-06-16T00:00:00",
                    "2017-06-17T00:00:00",
                    "2017-06-18T00:00:00",
                    "2017-06-19T00:00:00",
                    "2017-06-20T00:00:00",
                    "2017-06-21T00:00:00",
                    "2017-06-22T00:00:00",
                    "2017-06-23T00:00:00",
                    "2017-06-24T00:00:00",
                    "2017-06-25T00:00:00",
                    "2017-06-26T00:00:00",
                    "2017-06-27T00:00:00",
                    "2017-06-28T00:00:00",
                    "2017-06-29T00:00:00",
                    "2017-06-30T00:00:00"
                  ],
                  "y": [
                    0,
                    39.98,
                    646.56,
                    1161.16,
                    5077.92,
                    2630.88,
                    0,
                    16.98,
                    1331.3700000000001,
                    2304.24,
                    297.92,
                    2670.8199999999997,
                    261.02,
                    0,
                    0,
                    949.13,
                    1068.6599999999999,
                    2367.55,
                    1163.47,
                    281.08000000000004,
                    0,
                    41.46,
                    172.34,
                    2392.73,
                    739.09,
                    439.99,
                    1642.0800000000002,
                    35.98,
                    1359.46,
                    1490.43,
                    1542.76,
                    2896.05,
                    629.05,
                    2103.95,
                    18.97,
                    63.99,
                    1523.7400000000002,
                    1546.69,
                    844.37,
                    2976.3799999999997,
                    2497.85,
                    154.96,
                    112.33,
                    2146.99,
                    20039.34,
                    1866.43,
                    1145.26,
                    1708.33,
                    34.489999999999995,
                    991.6500000000001,
                    3290.71,
                    3137.7,
                    2974.12,
                    109.07999999999998,
                    1766.8799999999999,
                    39.98,
                    0,
                    220.49,
                    2823.83,
                    1512.1599999999999,
                    1886.52,
                    524.19,
                    3553.39,
                    74.46000000000001,
                    610.9300000000001,
                    800.84,
                    1892.21,
                    1380.9499999999998,
                    754.03,
                    54.95,
                    33.98,
                    1989.32,
                    789.06,
                    1250.0900000000001,
                    30.49,
                    403.40999999999997,
                    77.96,
                    661.1800000000001,
                    7494.41,
                    2223.62,
                    1868.9299999999998,
                    3289.74,
                    219.67999999999998,
                    36.98,
                    916.27,
                    2777.48,
                    4852.99,
                    3485.98,
                    1172.13,
                    1229.13,
                    90.96,
                    354.78,
                    213.16,
                    1231.99,
                    436.98,
                    766.3199999999999,
                    523.16,
                    62.24,
                    541.62,
                    180.79,
                    417.98,
                    1128.01,
                    1534.23,
                    2921.6,
                    13.96,
                    13.31,
                    1824.36,
                    744.69,
                    742.94,
                    329.85,
                    1644.51,
                    107.88,
                    102.74,
                    799.19,
                    1475.0500000000002,
                    401.21,
                    5464.21,
                    3224.33,
                    77.18,
                    473.82,
                    2584.9900000000002,
                    2572.7400000000002,
                    2507.52,
                    800.49,
                    2729.75,
                    167.76,
                    381.49,
                    1334.62,
                    710.99,
                    1709.1999999999998,
                    1460.85,
                    1416.99,
                    1023.62,
                    38.59,
                    687.1,
                    2126.79,
                    2765.57,
                    563.53,
                    3068.5499999999997,
                    709.8599999999999,
                    202.1,
                    802.36,
                    1316.47,
                    820.8500000000001,
                    231.98,
                    1039,
                    246.04,
                    100.31,
                    68.97,
                    2352.31,
                    1176.83,
                    410.04,
                    529.7800000000001,
                    641.72,
                    122.05,
                    248.39,
                    426.31,
                    712.2,
                    773.4399999999999,
                    895.0799999999999,
                    134.12,
                    324.38,
                    1153.29,
                    2189.47,
                    1374.68,
                    985.85,
                    187.51,
                    0,
                    1032.69,
                    216.33,
                    1327.53,
                    6007.19,
                    187.31,
                    127.5,
                    65.73,
                    9.48,
                    280.62,
                    498.66,
                    4850.29,
                    956.73,
                    74.96
                  ]
                },
                {
                  "mode": "lines",
                  "name": "Referral",
                  "type": "scatter",
                  "x": [
                    "2017-01-01T00:00:00",
                    "2017-01-02T00:00:00",
                    "2017-01-03T00:00:00",
                    "2017-01-04T00:00:00",
                    "2017-01-05T00:00:00",
                    "2017-01-06T00:00:00",
                    "2017-01-07T00:00:00",
                    "2017-01-08T00:00:00",
                    "2017-01-09T00:00:00",
                    "2017-01-10T00:00:00",
                    "2017-01-11T00:00:00",
                    "2017-01-12T00:00:00",
                    "2017-01-13T00:00:00",
                    "2017-01-14T00:00:00",
                    "2017-01-15T00:00:00",
                    "2017-01-16T00:00:00",
                    "2017-01-17T00:00:00",
                    "2017-01-18T00:00:00",
                    "2017-01-19T00:00:00",
                    "2017-01-20T00:00:00",
                    "2017-01-21T00:00:00",
                    "2017-01-22T00:00:00",
                    "2017-01-23T00:00:00",
                    "2017-01-24T00:00:00",
                    "2017-01-25T00:00:00",
                    "2017-01-26T00:00:00",
                    "2017-01-27T00:00:00",
                    "2017-01-28T00:00:00",
                    "2017-01-29T00:00:00",
                    "2017-01-30T00:00:00",
                    "2017-01-31T00:00:00",
                    "2017-02-01T00:00:00",
                    "2017-02-02T00:00:00",
                    "2017-02-03T00:00:00",
                    "2017-02-04T00:00:00",
                    "2017-02-05T00:00:00",
                    "2017-02-06T00:00:00",
                    "2017-02-07T00:00:00",
                    "2017-02-08T00:00:00",
                    "2017-02-09T00:00:00",
                    "2017-02-10T00:00:00",
                    "2017-02-11T00:00:00",
                    "2017-02-12T00:00:00",
                    "2017-02-13T00:00:00",
                    "2017-02-14T00:00:00",
                    "2017-02-15T00:00:00",
                    "2017-02-16T00:00:00",
                    "2017-02-17T00:00:00",
                    "2017-02-18T00:00:00",
                    "2017-02-19T00:00:00",
                    "2017-02-20T00:00:00",
                    "2017-02-21T00:00:00",
                    "2017-02-22T00:00:00",
                    "2017-02-23T00:00:00",
                    "2017-02-24T00:00:00",
                    "2017-02-25T00:00:00",
                    "2017-02-26T00:00:00",
                    "2017-02-27T00:00:00",
                    "2017-02-28T00:00:00",
                    "2017-03-01T00:00:00",
                    "2017-03-02T00:00:00",
                    "2017-03-03T00:00:00",
                    "2017-03-04T00:00:00",
                    "2017-03-05T00:00:00",
                    "2017-03-06T00:00:00",
                    "2017-03-07T00:00:00",
                    "2017-03-08T00:00:00",
                    "2017-03-09T00:00:00",
                    "2017-03-10T00:00:00",
                    "2017-03-11T00:00:00",
                    "2017-03-12T00:00:00",
                    "2017-03-13T00:00:00",
                    "2017-03-14T00:00:00",
                    "2017-03-15T00:00:00",
                    "2017-03-16T00:00:00",
                    "2017-03-17T00:00:00",
                    "2017-03-18T00:00:00",
                    "2017-03-19T00:00:00",
                    "2017-03-20T00:00:00",
                    "2017-03-21T00:00:00",
                    "2017-03-22T00:00:00",
                    "2017-03-23T00:00:00",
                    "2017-03-24T00:00:00",
                    "2017-03-25T00:00:00",
                    "2017-03-26T00:00:00",
                    "2017-03-27T00:00:00",
                    "2017-03-28T00:00:00",
                    "2017-03-29T00:00:00",
                    "2017-03-30T00:00:00",
                    "2017-03-31T00:00:00",
                    "2017-04-01T00:00:00",
                    "2017-04-02T00:00:00",
                    "2017-04-03T00:00:00",
                    "2017-04-04T00:00:00",
                    "2017-04-05T00:00:00",
                    "2017-04-06T00:00:00",
                    "2017-04-07T00:00:00",
                    "2017-04-08T00:00:00",
                    "2017-04-09T00:00:00",
                    "2017-04-10T00:00:00",
                    "2017-04-11T00:00:00",
                    "2017-04-12T00:00:00",
                    "2017-04-13T00:00:00",
                    "2017-04-14T00:00:00",
                    "2017-04-15T00:00:00",
                    "2017-04-16T00:00:00",
                    "2017-04-17T00:00:00",
                    "2017-04-18T00:00:00",
                    "2017-04-19T00:00:00",
                    "2017-04-20T00:00:00",
                    "2017-04-21T00:00:00",
                    "2017-04-22T00:00:00",
                    "2017-04-23T00:00:00",
                    "2017-04-24T00:00:00",
                    "2017-04-25T00:00:00",
                    "2017-04-26T00:00:00",
                    "2017-04-27T00:00:00",
                    "2017-04-28T00:00:00",
                    "2017-04-29T00:00:00",
                    "2017-04-30T00:00:00",
                    "2017-05-01T00:00:00",
                    "2017-05-02T00:00:00",
                    "2017-05-03T00:00:00",
                    "2017-05-04T00:00:00",
                    "2017-05-05T00:00:00",
                    "2017-05-06T00:00:00",
                    "2017-05-07T00:00:00",
                    "2017-05-08T00:00:00",
                    "2017-05-09T00:00:00",
                    "2017-05-10T00:00:00",
                    "2017-05-11T00:00:00",
                    "2017-05-12T00:00:00",
                    "2017-05-13T00:00:00",
                    "2017-05-14T00:00:00",
                    "2017-05-15T00:00:00",
                    "2017-05-16T00:00:00",
                    "2017-05-17T00:00:00",
                    "2017-05-18T00:00:00",
                    "2017-05-19T00:00:00",
                    "2017-05-20T00:00:00",
                    "2017-05-21T00:00:00",
                    "2017-05-22T00:00:00",
                    "2017-05-23T00:00:00",
                    "2017-05-24T00:00:00",
                    "2017-05-25T00:00:00",
                    "2017-05-26T00:00:00",
                    "2017-05-27T00:00:00",
                    "2017-05-28T00:00:00",
                    "2017-05-29T00:00:00",
                    "2017-05-30T00:00:00",
                    "2017-05-31T00:00:00",
                    "2017-06-01T00:00:00",
                    "2017-06-02T00:00:00",
                    "2017-06-03T00:00:00",
                    "2017-06-04T00:00:00",
                    "2017-06-05T00:00:00",
                    "2017-06-06T00:00:00",
                    "2017-06-07T00:00:00",
                    "2017-06-08T00:00:00",
                    "2017-06-09T00:00:00",
                    "2017-06-10T00:00:00",
                    "2017-06-11T00:00:00",
                    "2017-06-12T00:00:00",
                    "2017-06-13T00:00:00",
                    "2017-06-14T00:00:00",
                    "2017-06-15T00:00:00",
                    "2017-06-16T00:00:00",
                    "2017-06-17T00:00:00",
                    "2017-06-18T00:00:00",
                    "2017-06-19T00:00:00",
                    "2017-06-20T00:00:00",
                    "2017-06-21T00:00:00",
                    "2017-06-22T00:00:00",
                    "2017-06-23T00:00:00",
                    "2017-06-24T00:00:00",
                    "2017-06-25T00:00:00",
                    "2017-06-26T00:00:00",
                    "2017-06-27T00:00:00",
                    "2017-06-28T00:00:00",
                    "2017-06-29T00:00:00",
                    "2017-06-30T00:00:00"
                  ],
                  "y": [
                    812.11,
                    395.08,
                    3495.17,
                    2885.26,
                    2382.35,
                    1094.52,
                    292.34000000000003,
                    285.9,
                    2905.27,
                    1885.68,
                    789.1,
                    1420.49,
                    2325.34,
                    38.17,
                    0,
                    1543.1399999999999,
                    1360.75,
                    3351.5099999999998,
                    1377.21,
                    1311.59,
                    259.34999999999997,
                    1247.53,
                    1878.04,
                    1980.78,
                    1248.5,
                    3060.25,
                    1958.3000000000002,
                    25.58,
                    445.40000000000003,
                    1138.15,
                    3920.59,
                    2021.84,
                    710.15,
                    1866.22,
                    705.5,
                    586.26,
                    1484.69,
                    1725.79,
                    331.56,
                    1747.1599999999999,
                    2281.3500000000004,
                    62.99,
                    418.41999999999996,
                    839.35,
                    2064.27,
                    691.77,
                    3414.8,
                    2094.34,
                    326.98,
                    142.73,
                    763.45,
                    1284.02,
                    763.67,
                    2473.61,
                    2090.71,
                    836.37,
                    403.34,
                    1463.23,
                    1051.35,
                    1044.31,
                    671.81,
                    1835.03,
                    792.11,
                    605.95,
                    1378.28,
                    5080.21,
                    814.22,
                    2406.81,
                    2856.8900000000003,
                    737.51,
                    493.05,
                    1784.6399999999999,
                    709.9300000000001,
                    3415.69,
                    2362.81,
                    1468.32,
                    1598.0700000000002,
                    613.96,
                    1389.93,
                    2517.85,
                    3788.0199999999995,
                    1687.71,
                    1322.96,
                    395.54999999999995,
                    435.5799999999999,
                    1711.8,
                    2867.2999999999997,
                    962.21,
                    2439.16,
                    858.74,
                    258.32,
                    672.72,
                    1595.81,
                    1760.92,
                    2835.27,
                    3444.36,
                    2312.82,
                    779.61,
                    458.68,
                    3243.36,
                    1831.32,
                    2964.51,
                    3600.1800000000003,
                    1409.27,
                    99.75999999999999,
                    1080.56,
                    5301.16,
                    3032.01,
                    2424.34,
                    1962.94,
                    9210.43,
                    1660.12,
                    587.5,
                    1185.85,
                    850.1800000000001,
                    3020.77,
                    10680.699999999999,
                    875.47,
                    452.62,
                    761.6,
                    3602.8199999999997,
                    1608.89,
                    1622.1000000000001,
                    1538.78,
                    1618.47,
                    204.99,
                    604.0600000000001,
                    2046.95,
                    4407.54,
                    1866.47,
                    1973.51,
                    4875.8099999999995,
                    757.5,
                    259.08,
                    1459.6200000000001,
                    2432.34,
                    1453.6799999999998,
                    2001.62,
                    1784.61,
                    96.96,
                    588.11,
                    1055.75,
                    2132.6,
                    3481.0199999999995,
                    1263.76,
                    2583.31,
                    366.65,
                    204.19,
                    838.39,
                    2872.2299999999996,
                    8882.039999999999,
                    1711.07,
                    2108.4900000000002,
                    424.32,
                    951.4100000000001,
                    2942.31,
                    1258.72,
                    1670.43,
                    1463.13,
                    2258.7,
                    437.69,
                    384.78000000000003,
                    5965.71,
                    2199.15,
                    3068.43,
                    4223.67,
                    4909.51,
                    475.23,
                    1256.63,
                    1559.39,
                    2037.81,
                    1983.01,
                    1543.64,
                    1841.97,
                    0,
                    423.96,
                    660.29,
                    2078.02,
                    781.54,
                    1955.25,
                    1792.38
                  ]
                },
                {
                  "mode": "lines",
                  "name": "Paid Search",
                  "type": "scatter",
                  "x": [
                    "2017-01-01T00:00:00",
                    "2017-01-02T00:00:00",
                    "2017-01-03T00:00:00",
                    "2017-01-04T00:00:00",
                    "2017-01-05T00:00:00",
                    "2017-01-06T00:00:00",
                    "2017-01-07T00:00:00",
                    "2017-01-08T00:00:00",
                    "2017-01-09T00:00:00",
                    "2017-01-10T00:00:00",
                    "2017-01-11T00:00:00",
                    "2017-01-12T00:00:00",
                    "2017-01-13T00:00:00",
                    "2017-01-14T00:00:00",
                    "2017-01-15T00:00:00",
                    "2017-01-16T00:00:00",
                    "2017-01-17T00:00:00",
                    "2017-01-18T00:00:00",
                    "2017-01-19T00:00:00",
                    "2017-01-20T00:00:00",
                    "2017-01-21T00:00:00",
                    "2017-01-22T00:00:00",
                    "2017-01-23T00:00:00",
                    "2017-01-24T00:00:00",
                    "2017-01-25T00:00:00",
                    "2017-01-26T00:00:00",
                    "2017-01-27T00:00:00",
                    "2017-01-28T00:00:00",
                    "2017-01-29T00:00:00",
                    "2017-01-30T00:00:00",
                    "2017-01-31T00:00:00",
                    "2017-02-01T00:00:00",
                    "2017-02-02T00:00:00",
                    "2017-02-03T00:00:00",
                    "2017-02-04T00:00:00",
                    "2017-02-05T00:00:00",
                    "2017-02-06T00:00:00",
                    "2017-02-07T00:00:00",
                    "2017-02-08T00:00:00",
                    "2017-02-09T00:00:00",
                    "2017-02-10T00:00:00",
                    "2017-02-11T00:00:00",
                    "2017-02-12T00:00:00",
                    "2017-02-13T00:00:00",
                    "2017-02-14T00:00:00",
                    "2017-02-15T00:00:00",
                    "2017-02-16T00:00:00",
                    "2017-02-17T00:00:00",
                    "2017-02-18T00:00:00",
                    "2017-02-19T00:00:00",
                    "2017-02-20T00:00:00",
                    "2017-02-21T00:00:00",
                    "2017-02-22T00:00:00",
                    "2017-02-23T00:00:00",
                    "2017-02-24T00:00:00",
                    "2017-02-25T00:00:00",
                    "2017-02-26T00:00:00",
                    "2017-02-27T00:00:00",
                    "2017-02-28T00:00:00",
                    "2017-03-01T00:00:00",
                    "2017-03-02T00:00:00",
                    "2017-03-03T00:00:00",
                    "2017-03-04T00:00:00",
                    "2017-03-05T00:00:00",
                    "2017-03-06T00:00:00",
                    "2017-03-07T00:00:00",
                    "2017-03-08T00:00:00",
                    "2017-03-09T00:00:00",
                    "2017-03-10T00:00:00",
                    "2017-03-11T00:00:00",
                    "2017-03-12T00:00:00",
                    "2017-03-13T00:00:00",
                    "2017-03-14T00:00:00",
                    "2017-03-15T00:00:00",
                    "2017-03-16T00:00:00",
                    "2017-03-17T00:00:00",
                    "2017-03-18T00:00:00",
                    "2017-03-19T00:00:00",
                    "2017-03-20T00:00:00",
                    "2017-03-21T00:00:00",
                    "2017-03-22T00:00:00",
                    "2017-03-23T00:00:00",
                    "2017-03-24T00:00:00",
                    "2017-03-25T00:00:00",
                    "2017-03-26T00:00:00",
                    "2017-03-27T00:00:00",
                    "2017-03-28T00:00:00",
                    "2017-03-29T00:00:00",
                    "2017-03-30T00:00:00",
                    "2017-03-31T00:00:00",
                    "2017-04-01T00:00:00",
                    "2017-04-02T00:00:00",
                    "2017-04-03T00:00:00",
                    "2017-04-04T00:00:00",
                    "2017-04-05T00:00:00",
                    "2017-04-06T00:00:00",
                    "2017-04-07T00:00:00",
                    "2017-04-08T00:00:00",
                    "2017-04-09T00:00:00",
                    "2017-04-10T00:00:00",
                    "2017-04-11T00:00:00",
                    "2017-04-12T00:00:00",
                    "2017-04-13T00:00:00",
                    "2017-04-14T00:00:00",
                    "2017-04-15T00:00:00",
                    "2017-04-16T00:00:00",
                    "2017-04-17T00:00:00",
                    "2017-04-18T00:00:00",
                    "2017-04-19T00:00:00",
                    "2017-04-20T00:00:00",
                    "2017-04-21T00:00:00",
                    "2017-04-22T00:00:00",
                    "2017-04-23T00:00:00",
                    "2017-04-24T00:00:00",
                    "2017-04-25T00:00:00",
                    "2017-04-26T00:00:00",
                    "2017-04-27T00:00:00",
                    "2017-04-28T00:00:00",
                    "2017-04-29T00:00:00",
                    "2017-04-30T00:00:00",
                    "2017-05-01T00:00:00",
                    "2017-05-02T00:00:00",
                    "2017-05-03T00:00:00",
                    "2017-05-04T00:00:00",
                    "2017-05-05T00:00:00",
                    "2017-05-06T00:00:00",
                    "2017-05-07T00:00:00",
                    "2017-05-08T00:00:00",
                    "2017-05-09T00:00:00",
                    "2017-05-10T00:00:00",
                    "2017-05-11T00:00:00",
                    "2017-05-12T00:00:00",
                    "2017-05-13T00:00:00",
                    "2017-05-14T00:00:00",
                    "2017-05-15T00:00:00",
                    "2017-05-16T00:00:00",
                    "2017-05-17T00:00:00",
                    "2017-05-18T00:00:00",
                    "2017-05-19T00:00:00",
                    "2017-05-20T00:00:00",
                    "2017-05-21T00:00:00",
                    "2017-05-22T00:00:00",
                    "2017-05-23T00:00:00",
                    "2017-05-24T00:00:00",
                    "2017-05-25T00:00:00",
                    "2017-05-26T00:00:00",
                    "2017-05-27T00:00:00",
                    "2017-05-28T00:00:00",
                    "2017-05-29T00:00:00",
                    "2017-05-30T00:00:00",
                    "2017-05-31T00:00:00",
                    "2017-06-01T00:00:00",
                    "2017-06-02T00:00:00",
                    "2017-06-03T00:00:00",
                    "2017-06-04T00:00:00",
                    "2017-06-05T00:00:00",
                    "2017-06-06T00:00:00",
                    "2017-06-07T00:00:00",
                    "2017-06-08T00:00:00",
                    "2017-06-09T00:00:00",
                    "2017-06-10T00:00:00",
                    "2017-06-11T00:00:00",
                    "2017-06-12T00:00:00",
                    "2017-06-13T00:00:00",
                    "2017-06-14T00:00:00",
                    "2017-06-15T00:00:00",
                    "2017-06-16T00:00:00",
                    "2017-06-17T00:00:00",
                    "2017-06-18T00:00:00",
                    "2017-06-19T00:00:00",
                    "2017-06-20T00:00:00",
                    "2017-06-21T00:00:00",
                    "2017-06-22T00:00:00",
                    "2017-06-23T00:00:00",
                    "2017-06-24T00:00:00",
                    "2017-06-25T00:00:00",
                    "2017-06-26T00:00:00",
                    "2017-06-27T00:00:00",
                    "2017-06-28T00:00:00",
                    "2017-06-29T00:00:00",
                    "2017-06-30T00:00:00"
                  ],
                  "y": [
                    0,
                    17.98,
                    32.95,
                    61.959999999999994,
                    543.8,
                    168.31,
                    35.96,
                    507.3,
                    0,
                    0,
                    53.97,
                    0,
                    23.99,
                    0,
                    20.99,
                    113.97,
                    0,
                    171.84,
                    22.99,
                    76.39,
                    187.47,
                    16.19,
                    34.98,
                    222.89000000000001,
                    22.49,
                    0,
                    33.98,
                    0,
                    199.89999999999998,
                    93.47,
                    0,
                    0,
                    18.48,
                    0,
                    0,
                    0,
                    31.99,
                    0,
                    40.97,
                    0,
                    56.99,
                    0,
                    35.97,
                    26.99,
                    43.85,
                    80.56,
                    28.98,
                    276.72,
                    47,
                    150.97,
                    115.36,
                    691.45,
                    21.48,
                    143.72,
                    0,
                    0,
                    0,
                    690.4,
                    0,
                    0,
                    16.98,
                    0,
                    123.84,
                    109.97999999999999,
                    0,
                    57.97,
                    0,
                    0,
                    0,
                    0,
                    0,
                    0,
                    0,
                    143.83999999999997,
                    79.08,
                    463.09999999999997,
                    79.98,
                    0,
                    1164.72,
                    0,
                    0,
                    0,
                    94.99,
                    0,
                    0,
                    0,
                    0,
                    13.99,
                    58.35,
                    0,
                    0,
                    0,
                    1252.53,
                    265.35,
                    171.13,
                    1526.18,
                    0,
                    0,
                    0,
                    0,
                    0,
                    177.64,
                    0,
                    127.97,
                    0,
                    0,
                    0,
                    160.41,
                    0,
                    604.54,
                    0,
                    0,
                    16.5,
                    55.98,
                    0,
                    113.37,
                    32.18,
                    124.97999999999999,
                    219.81,
                    33.28,
                    40.98,
                    689.57,
                    157.1,
                    0,
                    0,
                    185.41,
                    39.98,
                    481.48,
                    634.9300000000001,
                    516.55,
                    0,
                    19.39,
                    75.08,
                    0,
                    0,
                    0,
                    140.82,
                    38.269999999999996,
                    10.98,
                    91.93,
                    28.88,
                    0,
                    103.6,
                    49.97,
                    0,
                    110.05999999999999,
                    104.86,
                    0,
                    64.2,
                    277.9,
                    0,
                    15.99,
                    151.16,
                    514.58,
                    0,
                    0,
                    76.03999999999999,
                    75.96,
                    70.97,
                    0,
                    76.94,
                    0,
                    859.73,
                    313.31,
                    717.3100000000001,
                    189.9,
                    59.26,
                    47.92,
                    102.92999999999999,
                    175.38,
                    231.19,
                    193.98,
                    90.5,
                    13.48,
                    167.92,
                    247.66,
                    98.97,
                    26.98,
                    100.47999999999999,
                    73.96,
                    48.97
                  ]
                },
                {
                  "mode": "lines",
                  "name": "Affiliates",
                  "type": "scatter",
                  "x": [
                    "2017-01-01T00:00:00",
                    "2017-01-02T00:00:00",
                    "2017-01-03T00:00:00",
                    "2017-01-04T00:00:00",
                    "2017-01-05T00:00:00",
                    "2017-01-06T00:00:00",
                    "2017-01-07T00:00:00",
                    "2017-01-08T00:00:00",
                    "2017-01-09T00:00:00",
                    "2017-01-10T00:00:00",
                    "2017-01-11T00:00:00",
                    "2017-01-12T00:00:00",
                    "2017-01-13T00:00:00",
                    "2017-01-14T00:00:00",
                    "2017-01-15T00:00:00",
                    "2017-01-16T00:00:00",
                    "2017-01-17T00:00:00",
                    "2017-01-18T00:00:00",
                    "2017-01-19T00:00:00",
                    "2017-01-20T00:00:00",
                    "2017-01-21T00:00:00",
                    "2017-01-22T00:00:00",
                    "2017-01-23T00:00:00",
                    "2017-01-24T00:00:00",
                    "2017-01-25T00:00:00",
                    "2017-01-26T00:00:00",
                    "2017-01-27T00:00:00",
                    "2017-01-28T00:00:00",
                    "2017-01-29T00:00:00",
                    "2017-01-30T00:00:00",
                    "2017-01-31T00:00:00",
                    "2017-02-01T00:00:00",
                    "2017-02-02T00:00:00",
                    "2017-02-03T00:00:00",
                    "2017-02-04T00:00:00",
                    "2017-02-05T00:00:00",
                    "2017-02-06T00:00:00",
                    "2017-02-07T00:00:00",
                    "2017-02-08T00:00:00",
                    "2017-02-09T00:00:00",
                    "2017-02-10T00:00:00",
                    "2017-02-11T00:00:00",
                    "2017-02-12T00:00:00",
                    "2017-02-13T00:00:00",
                    "2017-02-14T00:00:00",
                    "2017-02-15T00:00:00",
                    "2017-02-16T00:00:00",
                    "2017-02-17T00:00:00",
                    "2017-02-18T00:00:00",
                    "2017-02-19T00:00:00",
                    "2017-02-20T00:00:00",
                    "2017-02-21T00:00:00",
                    "2017-02-22T00:00:00",
                    "2017-02-23T00:00:00",
                    "2017-02-24T00:00:00",
                    "2017-02-25T00:00:00",
                    "2017-02-26T00:00:00",
                    "2017-02-27T00:00:00",
                    "2017-02-28T00:00:00",
                    "2017-03-01T00:00:00",
                    "2017-03-02T00:00:00",
                    "2017-03-03T00:00:00",
                    "2017-03-04T00:00:00",
                    "2017-03-05T00:00:00",
                    "2017-03-06T00:00:00",
                    "2017-03-07T00:00:00",
                    "2017-03-08T00:00:00",
                    "2017-03-09T00:00:00",
                    "2017-03-10T00:00:00",
                    "2017-03-11T00:00:00",
                    "2017-03-12T00:00:00",
                    "2017-03-13T00:00:00",
                    "2017-03-14T00:00:00",
                    "2017-03-15T00:00:00",
                    "2017-03-16T00:00:00",
                    "2017-03-17T00:00:00",
                    "2017-03-18T00:00:00",
                    "2017-03-19T00:00:00",
                    "2017-03-20T00:00:00",
                    "2017-03-21T00:00:00",
                    "2017-03-22T00:00:00",
                    "2017-03-23T00:00:00",
                    "2017-03-24T00:00:00",
                    "2017-03-25T00:00:00",
                    "2017-03-26T00:00:00",
                    "2017-03-27T00:00:00",
                    "2017-03-28T00:00:00",
                    "2017-03-29T00:00:00",
                    "2017-03-30T00:00:00",
                    "2017-03-31T00:00:00",
                    "2017-04-01T00:00:00",
                    "2017-04-02T00:00:00",
                    "2017-04-03T00:00:00",
                    "2017-04-04T00:00:00",
                    "2017-04-05T00:00:00",
                    "2017-04-06T00:00:00",
                    "2017-04-07T00:00:00",
                    "2017-04-08T00:00:00",
                    "2017-04-09T00:00:00",
                    "2017-04-10T00:00:00",
                    "2017-04-11T00:00:00",
                    "2017-04-12T00:00:00",
                    "2017-04-13T00:00:00",
                    "2017-04-14T00:00:00",
                    "2017-04-15T00:00:00",
                    "2017-04-16T00:00:00",
                    "2017-04-17T00:00:00",
                    "2017-04-18T00:00:00",
                    "2017-04-19T00:00:00",
                    "2017-04-20T00:00:00",
                    "2017-04-21T00:00:00",
                    "2017-04-22T00:00:00",
                    "2017-04-23T00:00:00",
                    "2017-04-24T00:00:00",
                    "2017-04-25T00:00:00",
                    "2017-04-26T00:00:00",
                    "2017-04-27T00:00:00",
                    "2017-04-28T00:00:00",
                    "2017-04-29T00:00:00",
                    "2017-04-30T00:00:00",
                    "2017-05-01T00:00:00",
                    "2017-05-02T00:00:00",
                    "2017-05-03T00:00:00",
                    "2017-05-04T00:00:00",
                    "2017-05-05T00:00:00",
                    "2017-05-06T00:00:00",
                    "2017-05-07T00:00:00",
                    "2017-05-08T00:00:00",
                    "2017-05-09T00:00:00",
                    "2017-05-10T00:00:00",
                    "2017-05-11T00:00:00",
                    "2017-05-12T00:00:00",
                    "2017-05-13T00:00:00",
                    "2017-05-14T00:00:00",
                    "2017-05-15T00:00:00",
                    "2017-05-16T00:00:00",
                    "2017-05-17T00:00:00",
                    "2017-05-18T00:00:00",
                    "2017-05-19T00:00:00",
                    "2017-05-20T00:00:00",
                    "2017-05-21T00:00:00",
                    "2017-05-22T00:00:00",
                    "2017-05-23T00:00:00",
                    "2017-05-24T00:00:00",
                    "2017-05-25T00:00:00",
                    "2017-05-26T00:00:00",
                    "2017-05-27T00:00:00",
                    "2017-05-28T00:00:00",
                    "2017-05-29T00:00:00",
                    "2017-05-30T00:00:00",
                    "2017-05-31T00:00:00",
                    "2017-06-01T00:00:00",
                    "2017-06-02T00:00:00",
                    "2017-06-03T00:00:00",
                    "2017-06-04T00:00:00",
                    "2017-06-05T00:00:00",
                    "2017-06-06T00:00:00",
                    "2017-06-07T00:00:00",
                    "2017-06-08T00:00:00",
                    "2017-06-09T00:00:00",
                    "2017-06-10T00:00:00",
                    "2017-06-11T00:00:00",
                    "2017-06-12T00:00:00",
                    "2017-06-13T00:00:00",
                    "2017-06-14T00:00:00",
                    "2017-06-15T00:00:00",
                    "2017-06-16T00:00:00",
                    "2017-06-17T00:00:00",
                    "2017-06-18T00:00:00",
                    "2017-06-19T00:00:00",
                    "2017-06-20T00:00:00",
                    "2017-06-21T00:00:00",
                    "2017-06-22T00:00:00",
                    "2017-06-23T00:00:00",
                    "2017-06-24T00:00:00",
                    "2017-06-25T00:00:00",
                    "2017-06-26T00:00:00",
                    "2017-06-27T00:00:00",
                    "2017-06-28T00:00:00",
                    "2017-06-29T00:00:00",
                    "2017-06-30T00:00:00"
                  ],
                  "y": [
                    0,
                    0,
                    0,
                    0,
                    0,
                    0,
                    0,
                    0,
                    0,
                    0,
                    0,
                    0,
                    0,
                    0,
                    0,
                    0,
                    0,
                    0,
                    0,
                    0,
                    0,
                    0,
                    0,
                    0,
                    0,
                    0,
                    0,
                    0,
                    0,
                    0,
                    0,
                    0,
                    0,
                    0,
                    0,
                    0,
                    0,
                    0,
                    0,
                    0,
                    30.99,
                    0,
                    0,
                    0,
                    0,
                    0,
                    0,
                    0,
                    0,
                    0,
                    0,
                    0,
                    0,
                    0,
                    0,
                    0,
                    0,
                    0,
                    0,
                    0,
                    0,
                    0,
                    0,
                    9.97,
                    0,
                    0,
                    0,
                    0,
                    0,
                    0,
                    0,
                    0,
                    0,
                    0,
                    0,
                    0,
                    0,
                    0,
                    0,
                    0,
                    0,
                    0,
                    0,
                    0,
                    0,
                    0,
                    0,
                    0,
                    0,
                    0,
                    0,
                    0,
                    0,
                    0,
                    0,
                    0,
                    0,
                    0,
                    0,
                    0,
                    0,
                    0,
                    0,
                    0,
                    0,
                    0,
                    0,
                    0,
                    0,
                    0,
                    0,
                    0,
                    0,
                    0,
                    0,
                    0,
                    0,
                    0,
                    0,
                    0,
                    0,
                    0,
                    0,
                    0,
                    0,
                    0,
                    0,
                    0,
                    0,
                    0,
                    0,
                    0,
                    0,
                    0,
                    0,
                    0,
                    0,
                    0,
                    0,
                    0,
                    0,
                    0,
                    0,
                    0,
                    0,
                    0,
                    0,
                    0,
                    0,
                    0,
                    0,
                    0,
                    0,
                    0,
                    0,
                    0,
                    0,
                    0,
                    0,
                    0,
                    0,
                    0,
                    0,
                    0,
                    0,
                    0,
                    0,
                    0,
                    0,
                    0,
                    0,
                    0,
                    0,
                    0,
                    0,
                    0,
                    0,
                    0,
                    0,
                    0,
                    0
                  ]
                },
                {
                  "mode": "lines",
                  "name": "Display",
                  "type": "scatter",
                  "x": [
                    "2017-01-01T00:00:00",
                    "2017-01-02T00:00:00",
                    "2017-01-03T00:00:00",
                    "2017-01-04T00:00:00",
                    "2017-01-05T00:00:00",
                    "2017-01-06T00:00:00",
                    "2017-01-07T00:00:00",
                    "2017-01-08T00:00:00",
                    "2017-01-09T00:00:00",
                    "2017-01-10T00:00:00",
                    "2017-01-11T00:00:00",
                    "2017-01-12T00:00:00",
                    "2017-01-13T00:00:00",
                    "2017-01-14T00:00:00",
                    "2017-01-15T00:00:00",
                    "2017-01-16T00:00:00",
                    "2017-01-17T00:00:00",
                    "2017-01-18T00:00:00",
                    "2017-01-19T00:00:00",
                    "2017-01-20T00:00:00",
                    "2017-01-21T00:00:00",
                    "2017-01-22T00:00:00",
                    "2017-01-23T00:00:00",
                    "2017-01-24T00:00:00",
                    "2017-01-25T00:00:00",
                    "2017-01-26T00:00:00",
                    "2017-01-27T00:00:00",
                    "2017-01-28T00:00:00",
                    "2017-01-29T00:00:00",
                    "2017-01-30T00:00:00",
                    "2017-01-31T00:00:00",
                    "2017-02-01T00:00:00",
                    "2017-02-02T00:00:00",
                    "2017-02-03T00:00:00",
                    "2017-02-04T00:00:00",
                    "2017-02-05T00:00:00",
                    "2017-02-06T00:00:00",
                    "2017-02-07T00:00:00",
                    "2017-02-08T00:00:00",
                    "2017-02-09T00:00:00",
                    "2017-02-10T00:00:00",
                    "2017-02-11T00:00:00",
                    "2017-02-12T00:00:00",
                    "2017-02-13T00:00:00",
                    "2017-02-14T00:00:00",
                    "2017-02-15T00:00:00",
                    "2017-02-16T00:00:00",
                    "2017-02-17T00:00:00",
                    "2017-02-18T00:00:00",
                    "2017-02-19T00:00:00",
                    "2017-02-20T00:00:00",
                    "2017-02-21T00:00:00",
                    "2017-02-22T00:00:00",
                    "2017-02-23T00:00:00",
                    "2017-02-24T00:00:00",
                    "2017-02-25T00:00:00",
                    "2017-02-26T00:00:00",
                    "2017-02-27T00:00:00",
                    "2017-02-28T00:00:00",
                    "2017-03-01T00:00:00",
                    "2017-03-02T00:00:00",
                    "2017-03-03T00:00:00",
                    "2017-03-04T00:00:00",
                    "2017-03-05T00:00:00",
                    "2017-03-06T00:00:00",
                    "2017-03-07T00:00:00",
                    "2017-03-08T00:00:00",
                    "2017-03-09T00:00:00",
                    "2017-03-10T00:00:00",
                    "2017-03-11T00:00:00",
                    "2017-03-12T00:00:00",
                    "2017-03-13T00:00:00",
                    "2017-03-14T00:00:00",
                    "2017-03-15T00:00:00",
                    "2017-03-16T00:00:00",
                    "2017-03-17T00:00:00",
                    "2017-03-18T00:00:00",
                    "2017-03-19T00:00:00",
                    "2017-03-20T00:00:00",
                    "2017-03-21T00:00:00",
                    "2017-03-22T00:00:00",
                    "2017-03-23T00:00:00",
                    "2017-03-24T00:00:00",
                    "2017-03-25T00:00:00",
                    "2017-03-26T00:00:00",
                    "2017-03-27T00:00:00",
                    "2017-03-28T00:00:00",
                    "2017-03-29T00:00:00",
                    "2017-03-30T00:00:00",
                    "2017-03-31T00:00:00",
                    "2017-04-01T00:00:00",
                    "2017-04-02T00:00:00",
                    "2017-04-03T00:00:00",
                    "2017-04-04T00:00:00",
                    "2017-04-05T00:00:00",
                    "2017-04-06T00:00:00",
                    "2017-04-07T00:00:00",
                    "2017-04-08T00:00:00",
                    "2017-04-09T00:00:00",
                    "2017-04-10T00:00:00",
                    "2017-04-11T00:00:00",
                    "2017-04-12T00:00:00",
                    "2017-04-13T00:00:00",
                    "2017-04-14T00:00:00",
                    "2017-04-17T00:00:00",
                    "2017-04-18T00:00:00",
                    "2017-04-19T00:00:00",
                    "2017-04-20T00:00:00",
                    "2017-04-21T00:00:00",
                    "2017-04-22T00:00:00",
                    "2017-04-23T00:00:00",
                    "2017-04-24T00:00:00",
                    "2017-04-25T00:00:00",
                    "2017-04-26T00:00:00",
                    "2017-04-27T00:00:00",
                    "2017-04-28T00:00:00",
                    "2017-04-29T00:00:00",
                    "2017-04-30T00:00:00",
                    "2017-05-01T00:00:00",
                    "2017-05-02T00:00:00",
                    "2017-05-03T00:00:00",
                    "2017-05-04T00:00:00",
                    "2017-05-05T00:00:00",
                    "2017-05-06T00:00:00",
                    "2017-05-07T00:00:00",
                    "2017-05-08T00:00:00",
                    "2017-05-09T00:00:00",
                    "2017-05-10T00:00:00",
                    "2017-05-11T00:00:00",
                    "2017-05-12T00:00:00",
                    "2017-05-13T00:00:00",
                    "2017-05-14T00:00:00",
                    "2017-05-15T00:00:00",
                    "2017-05-16T00:00:00",
                    "2017-05-17T00:00:00",
                    "2017-05-18T00:00:00",
                    "2017-05-19T00:00:00",
                    "2017-05-20T00:00:00",
                    "2017-05-21T00:00:00",
                    "2017-05-22T00:00:00",
                    "2017-05-23T00:00:00",
                    "2017-05-24T00:00:00",
                    "2017-05-25T00:00:00",
                    "2017-05-26T00:00:00",
                    "2017-05-27T00:00:00",
                    "2017-05-28T00:00:00",
                    "2017-05-29T00:00:00",
                    "2017-05-30T00:00:00",
                    "2017-05-31T00:00:00",
                    "2017-06-01T00:00:00",
                    "2017-06-02T00:00:00",
                    "2017-06-03T00:00:00",
                    "2017-06-04T00:00:00",
                    "2017-06-05T00:00:00",
                    "2017-06-06T00:00:00",
                    "2017-06-07T00:00:00",
                    "2017-06-08T00:00:00",
                    "2017-06-09T00:00:00",
                    "2017-06-10T00:00:00",
                    "2017-06-11T00:00:00",
                    "2017-06-12T00:00:00",
                    "2017-06-13T00:00:00",
                    "2017-06-14T00:00:00",
                    "2017-06-15T00:00:00",
                    "2017-06-16T00:00:00",
                    "2017-06-17T00:00:00",
                    "2017-06-18T00:00:00",
                    "2017-06-19T00:00:00",
                    "2017-06-20T00:00:00",
                    "2017-06-21T00:00:00",
                    "2017-06-22T00:00:00",
                    "2017-06-23T00:00:00",
                    "2017-06-24T00:00:00",
                    "2017-06-25T00:00:00",
                    "2017-06-26T00:00:00",
                    "2017-06-27T00:00:00",
                    "2017-06-28T00:00:00",
                    "2017-06-29T00:00:00",
                    "2017-06-30T00:00:00"
                  ],
                  "y": [
                    0,
                    0,
                    0,
                    0,
                    22.59,
                    153.79,
                    0,
                    0,
                    133.45,
                    355.55999999999995,
                    160.92,
                    58.22,
                    163.23,
                    314.09000000000003,
                    0,
                    0,
                    59.34,
                    56.97,
                    74.97,
                    120.98,
                    0,
                    0,
                    124.76,
                    0,
                    46,
                    602.91,
                    0,
                    0,
                    0,
                    373.8,
                    43.97,
                    0,
                    188.65,
                    0,
                    0,
                    0,
                    0,
                    0,
                    0,
                    29.98,
                    0,
                    0,
                    0,
                    0,
                    303.59000000000003,
                    230.51,
                    453.43,
                    0,
                    0,
                    54.37,
                    0,
                    0,
                    0,
                    0,
                    0,
                    0,
                    0,
                    307.34,
                    61.99,
                    0,
                    0,
                    0,
                    0,
                    0,
                    234.13000000000002,
                    0,
                    0,
                    97.58,
                    0,
                    0,
                    0,
                    0,
                    0,
                    0,
                    0,
                    0,
                    0,
                    0,
                    0,
                    0,
                    0,
                    0,
                    8680.83,
                    0,
                    0,
                    0,
                    0,
                    0,
                    172.16000000000003,
                    0,
                    0,
                    0,
                    28.99,
                    0,
                    47082.06,
                    0,
                    9862.16,
                    0,
                    0,
                    0,
                    0,
                    0,
                    194.71,
                    0,
                    0,
                    32153.82,
                    3677.92,
                    0,
                    0,
                    0,
                    0,
                    0,
                    0,
                    0,
                    0,
                    0,
                    0,
                    244.09,
                    0,
                    35.19,
                    0,
                    0,
                    2774.11,
                    0,
                    0,
                    0,
                    55.1,
                    0,
                    116.39,
                    0,
                    0,
                    0,
                    0,
                    0,
                    0,
                    0,
                    0,
                    0,
                    0,
                    44.98,
                    49.59,
                    0,
                    0,
                    416.96,
                    0,
                    0,
                    0,
                    0,
                    0,
                    242.4,
                    1428.25,
                    0,
                    0,
                    0,
                    0,
                    161.96,
                    910.73,
                    51.59,
                    0,
                    0,
                    0,
                    0,
                    2341.56,
                    0,
                    0,
                    0,
                    0,
                    0,
                    0,
                    0,
                    0,
                    36.98,
                    0,
                    0,
                    0,
                    0,
                    2499,
                    0,
                    1205.74
                  ]
                },
                {
                  "mode": "lines",
                  "name": "Social",
                  "type": "scatter",
                  "x": [
                    "2017-01-01T00:00:00",
                    "2017-01-02T00:00:00",
                    "2017-01-03T00:00:00",
                    "2017-01-04T00:00:00",
                    "2017-01-05T00:00:00",
                    "2017-01-06T00:00:00",
                    "2017-01-07T00:00:00",
                    "2017-01-08T00:00:00",
                    "2017-01-09T00:00:00",
                    "2017-01-10T00:00:00",
                    "2017-01-11T00:00:00",
                    "2017-01-12T00:00:00",
                    "2017-01-13T00:00:00",
                    "2017-01-14T00:00:00",
                    "2017-01-15T00:00:00",
                    "2017-01-16T00:00:00",
                    "2017-01-17T00:00:00",
                    "2017-01-18T00:00:00",
                    "2017-01-19T00:00:00",
                    "2017-01-20T00:00:00",
                    "2017-01-21T00:00:00",
                    "2017-01-22T00:00:00",
                    "2017-01-23T00:00:00",
                    "2017-01-24T00:00:00",
                    "2017-01-25T00:00:00",
                    "2017-01-26T00:00:00",
                    "2017-01-27T00:00:00",
                    "2017-01-28T00:00:00",
                    "2017-01-29T00:00:00",
                    "2017-01-30T00:00:00",
                    "2017-01-31T00:00:00",
                    "2017-02-01T00:00:00",
                    "2017-02-02T00:00:00",
                    "2017-02-03T00:00:00",
                    "2017-02-04T00:00:00",
                    "2017-02-05T00:00:00",
                    "2017-02-06T00:00:00",
                    "2017-02-07T00:00:00",
                    "2017-02-08T00:00:00",
                    "2017-02-09T00:00:00",
                    "2017-02-10T00:00:00",
                    "2017-02-11T00:00:00",
                    "2017-02-12T00:00:00",
                    "2017-02-13T00:00:00",
                    "2017-02-14T00:00:00",
                    "2017-02-15T00:00:00",
                    "2017-02-16T00:00:00",
                    "2017-02-17T00:00:00",
                    "2017-02-18T00:00:00",
                    "2017-02-19T00:00:00",
                    "2017-02-20T00:00:00",
                    "2017-02-21T00:00:00",
                    "2017-02-22T00:00:00",
                    "2017-02-23T00:00:00",
                    "2017-02-24T00:00:00",
                    "2017-02-25T00:00:00",
                    "2017-02-26T00:00:00",
                    "2017-02-27T00:00:00",
                    "2017-02-28T00:00:00",
                    "2017-03-01T00:00:00",
                    "2017-03-02T00:00:00",
                    "2017-03-03T00:00:00",
                    "2017-03-04T00:00:00",
                    "2017-03-05T00:00:00",
                    "2017-03-06T00:00:00",
                    "2017-03-07T00:00:00",
                    "2017-03-08T00:00:00",
                    "2017-03-09T00:00:00",
                    "2017-03-10T00:00:00",
                    "2017-03-11T00:00:00",
                    "2017-03-12T00:00:00",
                    "2017-03-13T00:00:00",
                    "2017-03-14T00:00:00",
                    "2017-03-15T00:00:00",
                    "2017-03-16T00:00:00",
                    "2017-03-17T00:00:00",
                    "2017-03-18T00:00:00",
                    "2017-03-19T00:00:00",
                    "2017-03-20T00:00:00",
                    "2017-03-21T00:00:00",
                    "2017-03-22T00:00:00",
                    "2017-03-23T00:00:00",
                    "2017-03-24T00:00:00",
                    "2017-03-25T00:00:00",
                    "2017-03-26T00:00:00",
                    "2017-03-27T00:00:00",
                    "2017-03-28T00:00:00",
                    "2017-03-29T00:00:00",
                    "2017-03-30T00:00:00",
                    "2017-03-31T00:00:00",
                    "2017-04-01T00:00:00",
                    "2017-04-02T00:00:00",
                    "2017-04-03T00:00:00",
                    "2017-04-04T00:00:00",
                    "2017-04-05T00:00:00",
                    "2017-04-06T00:00:00",
                    "2017-04-07T00:00:00",
                    "2017-04-08T00:00:00",
                    "2017-04-09T00:00:00",
                    "2017-04-10T00:00:00",
                    "2017-04-11T00:00:00",
                    "2017-04-12T00:00:00",
                    "2017-04-13T00:00:00",
                    "2017-04-14T00:00:00",
                    "2017-04-15T00:00:00",
                    "2017-04-16T00:00:00",
                    "2017-04-17T00:00:00",
                    "2017-04-18T00:00:00",
                    "2017-04-19T00:00:00",
                    "2017-04-20T00:00:00",
                    "2017-04-21T00:00:00",
                    "2017-04-22T00:00:00",
                    "2017-04-23T00:00:00",
                    "2017-04-24T00:00:00",
                    "2017-04-25T00:00:00",
                    "2017-04-26T00:00:00",
                    "2017-04-27T00:00:00",
                    "2017-04-28T00:00:00",
                    "2017-04-29T00:00:00",
                    "2017-04-30T00:00:00",
                    "2017-05-01T00:00:00",
                    "2017-05-02T00:00:00",
                    "2017-05-03T00:00:00",
                    "2017-05-04T00:00:00",
                    "2017-05-05T00:00:00",
                    "2017-05-06T00:00:00",
                    "2017-05-07T00:00:00",
                    "2017-05-08T00:00:00",
                    "2017-05-09T00:00:00",
                    "2017-05-10T00:00:00",
                    "2017-05-11T00:00:00",
                    "2017-05-12T00:00:00",
                    "2017-05-13T00:00:00",
                    "2017-05-14T00:00:00",
                    "2017-05-15T00:00:00",
                    "2017-05-16T00:00:00",
                    "2017-05-17T00:00:00",
                    "2017-05-18T00:00:00",
                    "2017-05-19T00:00:00",
                    "2017-05-20T00:00:00",
                    "2017-05-21T00:00:00",
                    "2017-05-22T00:00:00",
                    "2017-05-23T00:00:00",
                    "2017-05-24T00:00:00",
                    "2017-05-25T00:00:00",
                    "2017-05-26T00:00:00",
                    "2017-05-27T00:00:00",
                    "2017-05-28T00:00:00",
                    "2017-05-29T00:00:00",
                    "2017-05-30T00:00:00",
                    "2017-05-31T00:00:00",
                    "2017-06-01T00:00:00",
                    "2017-06-02T00:00:00",
                    "2017-06-03T00:00:00",
                    "2017-06-04T00:00:00",
                    "2017-06-05T00:00:00",
                    "2017-06-06T00:00:00",
                    "2017-06-07T00:00:00",
                    "2017-06-08T00:00:00",
                    "2017-06-09T00:00:00",
                    "2017-06-10T00:00:00",
                    "2017-06-11T00:00:00",
                    "2017-06-12T00:00:00",
                    "2017-06-13T00:00:00",
                    "2017-06-14T00:00:00",
                    "2017-06-15T00:00:00",
                    "2017-06-16T00:00:00",
                    "2017-06-17T00:00:00",
                    "2017-06-18T00:00:00",
                    "2017-06-19T00:00:00",
                    "2017-06-20T00:00:00",
                    "2017-06-21T00:00:00",
                    "2017-06-22T00:00:00",
                    "2017-06-23T00:00:00",
                    "2017-06-24T00:00:00",
                    "2017-06-25T00:00:00",
                    "2017-06-26T00:00:00",
                    "2017-06-27T00:00:00",
                    "2017-06-28T00:00:00",
                    "2017-06-29T00:00:00",
                    "2017-06-30T00:00:00"
                  ],
                  "y": [
                    0,
                    0,
                    0,
                    0,
                    0,
                    0,
                    0,
                    0,
                    0,
                    0,
                    0,
                    0,
                    81.97999999999999,
                    0,
                    0,
                    0,
                    0,
                    6.98,
                    0,
                    0,
                    0,
                    0,
                    0,
                    0,
                    0,
                    0,
                    0,
                    0,
                    103.93,
                    0,
                    61.949999999999996,
                    21.98,
                    0,
                    0,
                    0,
                    0,
                    0,
                    75.97,
                    0,
                    0,
                    0,
                    0,
                    0,
                    0,
                    0,
                    0,
                    64.58,
                    229.89000000000001,
                    0,
                    91.91,
                    0,
                    0,
                    0,
                    0,
                    0,
                    0,
                    0,
                    0,
                    0,
                    0,
                    0,
                    0,
                    1223.57,
                    294.92,
                    0,
                    25.99,
                    0,
                    0,
                    0,
                    0,
                    0,
                    0,
                    901.71,
                    0,
                    0,
                    0,
                    0,
                    0,
                    0,
                    0,
                    0,
                    0,
                    0,
                    0,
                    0,
                    0,
                    0,
                    0,
                    0,
                    0,
                    0,
                    0,
                    0,
                    11.99,
                    0,
                    0,
                    0,
                    0,
                    0,
                    0,
                    17.68,
                    0,
                    45.19,
                    20.96,
                    0,
                    20.97,
                    0,
                    78.75,
                    36.95,
                    0,
                    0,
                    0,
                    0,
                    0,
                    0,
                    0,
                    0,
                    154.36,
                    0,
                    0,
                    211.54000000000002,
                    74.18,
                    262.53000000000003,
                    392.15,
                    68.18,
                    0,
                    0,
                    122.77000000000001,
                    40.59,
                    51.79,
                    0,
                    35.59,
                    0,
                    0,
                    16.97,
                    0,
                    12.98,
                    0,
                    0,
                    24.98,
                    0,
                    0,
                    0,
                    0,
                    0,
                    122.47,
                    53.99,
                    0,
                    49.99,
                    0,
                    105.21,
                    0,
                    0,
                    0,
                    0,
                    0,
                    0,
                    0,
                    16.99,
                    0,
                    0,
                    0,
                    0,
                    12.48,
                    0,
                    0,
                    0,
                    0,
                    0,
                    0,
                    0,
                    0,
                    38.59,
                    0,
                    0,
                    0,
                    0,
                    0,
                    0,
                    63.370000000000005,
                    0
                  ]
                },
                {
                  "mode": "lines",
                  "name": "(Other)",
                  "type": "scatter",
                  "x": [
                    "2017-01-17T00:00:00",
                    "2017-01-18T00:00:00",
                    "2017-01-25T00:00:00",
                    "2017-03-03T00:00:00",
                    "2017-03-27T00:00:00",
                    "2017-03-28T00:00:00",
                    "2017-04-04T00:00:00",
                    "2017-04-05T00:00:00",
                    "2017-04-06T00:00:00",
                    "2017-04-07T00:00:00",
                    "2017-04-10T00:00:00",
                    "2017-04-11T00:00:00",
                    "2017-04-12T00:00:00",
                    "2017-04-13T00:00:00",
                    "2017-04-14T00:00:00",
                    "2017-04-15T00:00:00",
                    "2017-04-16T00:00:00",
                    "2017-04-17T00:00:00",
                    "2017-04-18T00:00:00",
                    "2017-04-19T00:00:00",
                    "2017-04-20T00:00:00",
                    "2017-04-21T00:00:00",
                    "2017-04-25T00:00:00",
                    "2017-04-26T00:00:00",
                    "2017-04-27T00:00:00",
                    "2017-04-28T00:00:00",
                    "2017-05-05T00:00:00",
                    "2017-05-17T00:00:00",
                    "2017-05-19T00:00:00",
                    "2017-05-21T00:00:00"
                  ],
                  "y": [
                    0,
                    0,
                    0,
                    0,
                    0,
                    0,
                    0,
                    0,
                    0,
                    0,
                    0,
                    0,
                    0,
                    0,
                    0,
                    0,
                    0,
                    0,
                    11.99,
                    0,
                    0,
                    0,
                    0,
                    0,
                    0,
                    0,
                    0,
                    0,
                    0,
                    0
                  ]
                }
              ],
              "layout": {
                "showlegend": true,
                "template": {
                  "data": {
                    "bar": [
                      {
                        "error_x": {
                          "color": "#2a3f5f"
                        },
                        "error_y": {
                          "color": "#2a3f5f"
                        },
                        "marker": {
                          "line": {
                            "color": "#E5ECF6",
                            "width": 0.5
                          },
                          "pattern": {
                            "fillmode": "overlay",
                            "size": 10,
                            "solidity": 0.2
                          }
                        },
                        "type": "bar"
                      }
                    ],
                    "barpolar": [
                      {
                        "marker": {
                          "line": {
                            "color": "#E5ECF6",
                            "width": 0.5
                          },
                          "pattern": {
                            "fillmode": "overlay",
                            "size": 10,
                            "solidity": 0.2
                          }
                        },
                        "type": "barpolar"
                      }
                    ],
                    "carpet": [
                      {
                        "aaxis": {
                          "endlinecolor": "#2a3f5f",
                          "gridcolor": "white",
                          "linecolor": "white",
                          "minorgridcolor": "white",
                          "startlinecolor": "#2a3f5f"
                        },
                        "baxis": {
                          "endlinecolor": "#2a3f5f",
                          "gridcolor": "white",
                          "linecolor": "white",
                          "minorgridcolor": "white",
                          "startlinecolor": "#2a3f5f"
                        },
                        "type": "carpet"
                      }
                    ],
                    "choropleth": [
                      {
                        "colorbar": {
                          "outlinewidth": 0,
                          "ticks": ""
                        },
                        "type": "choropleth"
                      }
                    ],
                    "contour": [
                      {
                        "colorbar": {
                          "outlinewidth": 0,
                          "ticks": ""
                        },
                        "colorscale": [
                          [
                            0,
                            "#0d0887"
                          ],
                          [
                            0.1111111111111111,
                            "#46039f"
                          ],
                          [
                            0.2222222222222222,
                            "#7201a8"
                          ],
                          [
                            0.3333333333333333,
                            "#9c179e"
                          ],
                          [
                            0.4444444444444444,
                            "#bd3786"
                          ],
                          [
                            0.5555555555555556,
                            "#d8576b"
                          ],
                          [
                            0.6666666666666666,
                            "#ed7953"
                          ],
                          [
                            0.7777777777777778,
                            "#fb9f3a"
                          ],
                          [
                            0.8888888888888888,
                            "#fdca26"
                          ],
                          [
                            1,
                            "#f0f921"
                          ]
                        ],
                        "type": "contour"
                      }
                    ],
                    "contourcarpet": [
                      {
                        "colorbar": {
                          "outlinewidth": 0,
                          "ticks": ""
                        },
                        "type": "contourcarpet"
                      }
                    ],
                    "heatmap": [
                      {
                        "colorbar": {
                          "outlinewidth": 0,
                          "ticks": ""
                        },
                        "colorscale": [
                          [
                            0,
                            "#0d0887"
                          ],
                          [
                            0.1111111111111111,
                            "#46039f"
                          ],
                          [
                            0.2222222222222222,
                            "#7201a8"
                          ],
                          [
                            0.3333333333333333,
                            "#9c179e"
                          ],
                          [
                            0.4444444444444444,
                            "#bd3786"
                          ],
                          [
                            0.5555555555555556,
                            "#d8576b"
                          ],
                          [
                            0.6666666666666666,
                            "#ed7953"
                          ],
                          [
                            0.7777777777777778,
                            "#fb9f3a"
                          ],
                          [
                            0.8888888888888888,
                            "#fdca26"
                          ],
                          [
                            1,
                            "#f0f921"
                          ]
                        ],
                        "type": "heatmap"
                      }
                    ],
                    "heatmapgl": [
                      {
                        "colorbar": {
                          "outlinewidth": 0,
                          "ticks": ""
                        },
                        "colorscale": [
                          [
                            0,
                            "#0d0887"
                          ],
                          [
                            0.1111111111111111,
                            "#46039f"
                          ],
                          [
                            0.2222222222222222,
                            "#7201a8"
                          ],
                          [
                            0.3333333333333333,
                            "#9c179e"
                          ],
                          [
                            0.4444444444444444,
                            "#bd3786"
                          ],
                          [
                            0.5555555555555556,
                            "#d8576b"
                          ],
                          [
                            0.6666666666666666,
                            "#ed7953"
                          ],
                          [
                            0.7777777777777778,
                            "#fb9f3a"
                          ],
                          [
                            0.8888888888888888,
                            "#fdca26"
                          ],
                          [
                            1,
                            "#f0f921"
                          ]
                        ],
                        "type": "heatmapgl"
                      }
                    ],
                    "histogram": [
                      {
                        "marker": {
                          "pattern": {
                            "fillmode": "overlay",
                            "size": 10,
                            "solidity": 0.2
                          }
                        },
                        "type": "histogram"
                      }
                    ],
                    "histogram2d": [
                      {
                        "colorbar": {
                          "outlinewidth": 0,
                          "ticks": ""
                        },
                        "colorscale": [
                          [
                            0,
                            "#0d0887"
                          ],
                          [
                            0.1111111111111111,
                            "#46039f"
                          ],
                          [
                            0.2222222222222222,
                            "#7201a8"
                          ],
                          [
                            0.3333333333333333,
                            "#9c179e"
                          ],
                          [
                            0.4444444444444444,
                            "#bd3786"
                          ],
                          [
                            0.5555555555555556,
                            "#d8576b"
                          ],
                          [
                            0.6666666666666666,
                            "#ed7953"
                          ],
                          [
                            0.7777777777777778,
                            "#fb9f3a"
                          ],
                          [
                            0.8888888888888888,
                            "#fdca26"
                          ],
                          [
                            1,
                            "#f0f921"
                          ]
                        ],
                        "type": "histogram2d"
                      }
                    ],
                    "histogram2dcontour": [
                      {
                        "colorbar": {
                          "outlinewidth": 0,
                          "ticks": ""
                        },
                        "colorscale": [
                          [
                            0,
                            "#0d0887"
                          ],
                          [
                            0.1111111111111111,
                            "#46039f"
                          ],
                          [
                            0.2222222222222222,
                            "#7201a8"
                          ],
                          [
                            0.3333333333333333,
                            "#9c179e"
                          ],
                          [
                            0.4444444444444444,
                            "#bd3786"
                          ],
                          [
                            0.5555555555555556,
                            "#d8576b"
                          ],
                          [
                            0.6666666666666666,
                            "#ed7953"
                          ],
                          [
                            0.7777777777777778,
                            "#fb9f3a"
                          ],
                          [
                            0.8888888888888888,
                            "#fdca26"
                          ],
                          [
                            1,
                            "#f0f921"
                          ]
                        ],
                        "type": "histogram2dcontour"
                      }
                    ],
                    "mesh3d": [
                      {
                        "colorbar": {
                          "outlinewidth": 0,
                          "ticks": ""
                        },
                        "type": "mesh3d"
                      }
                    ],
                    "parcoords": [
                      {
                        "line": {
                          "colorbar": {
                            "outlinewidth": 0,
                            "ticks": ""
                          }
                        },
                        "type": "parcoords"
                      }
                    ],
                    "pie": [
                      {
                        "automargin": true,
                        "type": "pie"
                      }
                    ],
                    "scatter": [
                      {
                        "marker": {
                          "colorbar": {
                            "outlinewidth": 0,
                            "ticks": ""
                          }
                        },
                        "type": "scatter"
                      }
                    ],
                    "scatter3d": [
                      {
                        "line": {
                          "colorbar": {
                            "outlinewidth": 0,
                            "ticks": ""
                          }
                        },
                        "marker": {
                          "colorbar": {
                            "outlinewidth": 0,
                            "ticks": ""
                          }
                        },
                        "type": "scatter3d"
                      }
                    ],
                    "scattercarpet": [
                      {
                        "marker": {
                          "colorbar": {
                            "outlinewidth": 0,
                            "ticks": ""
                          }
                        },
                        "type": "scattercarpet"
                      }
                    ],
                    "scattergeo": [
                      {
                        "marker": {
                          "colorbar": {
                            "outlinewidth": 0,
                            "ticks": ""
                          }
                        },
                        "type": "scattergeo"
                      }
                    ],
                    "scattergl": [
                      {
                        "marker": {
                          "colorbar": {
                            "outlinewidth": 0,
                            "ticks": ""
                          }
                        },
                        "type": "scattergl"
                      }
                    ],
                    "scattermapbox": [
                      {
                        "marker": {
                          "colorbar": {
                            "outlinewidth": 0,
                            "ticks": ""
                          }
                        },
                        "type": "scattermapbox"
                      }
                    ],
                    "scatterpolar": [
                      {
                        "marker": {
                          "colorbar": {
                            "outlinewidth": 0,
                            "ticks": ""
                          }
                        },
                        "type": "scatterpolar"
                      }
                    ],
                    "scatterpolargl": [
                      {
                        "marker": {
                          "colorbar": {
                            "outlinewidth": 0,
                            "ticks": ""
                          }
                        },
                        "type": "scatterpolargl"
                      }
                    ],
                    "scatterternary": [
                      {
                        "marker": {
                          "colorbar": {
                            "outlinewidth": 0,
                            "ticks": ""
                          }
                        },
                        "type": "scatterternary"
                      }
                    ],
                    "surface": [
                      {
                        "colorbar": {
                          "outlinewidth": 0,
                          "ticks": ""
                        },
                        "colorscale": [
                          [
                            0,
                            "#0d0887"
                          ],
                          [
                            0.1111111111111111,
                            "#46039f"
                          ],
                          [
                            0.2222222222222222,
                            "#7201a8"
                          ],
                          [
                            0.3333333333333333,
                            "#9c179e"
                          ],
                          [
                            0.4444444444444444,
                            "#bd3786"
                          ],
                          [
                            0.5555555555555556,
                            "#d8576b"
                          ],
                          [
                            0.6666666666666666,
                            "#ed7953"
                          ],
                          [
                            0.7777777777777778,
                            "#fb9f3a"
                          ],
                          [
                            0.8888888888888888,
                            "#fdca26"
                          ],
                          [
                            1,
                            "#f0f921"
                          ]
                        ],
                        "type": "surface"
                      }
                    ],
                    "table": [
                      {
                        "cells": {
                          "fill": {
                            "color": "#EBF0F8"
                          },
                          "line": {
                            "color": "white"
                          }
                        },
                        "header": {
                          "fill": {
                            "color": "#C8D4E3"
                          },
                          "line": {
                            "color": "white"
                          }
                        },
                        "type": "table"
                      }
                    ]
                  },
                  "layout": {
                    "annotationdefaults": {
                      "arrowcolor": "#2a3f5f",
                      "arrowhead": 0,
                      "arrowwidth": 1
                    },
                    "autotypenumbers": "strict",
                    "coloraxis": {
                      "colorbar": {
                        "outlinewidth": 0,
                        "ticks": ""
                      }
                    },
                    "colorscale": {
                      "diverging": [
                        [
                          0,
                          "#8e0152"
                        ],
                        [
                          0.1,
                          "#c51b7d"
                        ],
                        [
                          0.2,
                          "#de77ae"
                        ],
                        [
                          0.3,
                          "#f1b6da"
                        ],
                        [
                          0.4,
                          "#fde0ef"
                        ],
                        [
                          0.5,
                          "#f7f7f7"
                        ],
                        [
                          0.6,
                          "#e6f5d0"
                        ],
                        [
                          0.7,
                          "#b8e186"
                        ],
                        [
                          0.8,
                          "#7fbc41"
                        ],
                        [
                          0.9,
                          "#4d9221"
                        ],
                        [
                          1,
                          "#276419"
                        ]
                      ],
                      "sequential": [
                        [
                          0,
                          "#0d0887"
                        ],
                        [
                          0.1111111111111111,
                          "#46039f"
                        ],
                        [
                          0.2222222222222222,
                          "#7201a8"
                        ],
                        [
                          0.3333333333333333,
                          "#9c179e"
                        ],
                        [
                          0.4444444444444444,
                          "#bd3786"
                        ],
                        [
                          0.5555555555555556,
                          "#d8576b"
                        ],
                        [
                          0.6666666666666666,
                          "#ed7953"
                        ],
                        [
                          0.7777777777777778,
                          "#fb9f3a"
                        ],
                        [
                          0.8888888888888888,
                          "#fdca26"
                        ],
                        [
                          1,
                          "#f0f921"
                        ]
                      ],
                      "sequentialminus": [
                        [
                          0,
                          "#0d0887"
                        ],
                        [
                          0.1111111111111111,
                          "#46039f"
                        ],
                        [
                          0.2222222222222222,
                          "#7201a8"
                        ],
                        [
                          0.3333333333333333,
                          "#9c179e"
                        ],
                        [
                          0.4444444444444444,
                          "#bd3786"
                        ],
                        [
                          0.5555555555555556,
                          "#d8576b"
                        ],
                        [
                          0.6666666666666666,
                          "#ed7953"
                        ],
                        [
                          0.7777777777777778,
                          "#fb9f3a"
                        ],
                        [
                          0.8888888888888888,
                          "#fdca26"
                        ],
                        [
                          1,
                          "#f0f921"
                        ]
                      ]
                    },
                    "colorway": [
                      "#636efa",
                      "#EF553B",
                      "#00cc96",
                      "#ab63fa",
                      "#FFA15A",
                      "#19d3f3",
                      "#FF6692",
                      "#B6E880",
                      "#FF97FF",
                      "#FECB52"
                    ],
                    "font": {
                      "color": "#2a3f5f"
                    },
                    "geo": {
                      "bgcolor": "white",
                      "lakecolor": "white",
                      "landcolor": "#E5ECF6",
                      "showlakes": true,
                      "showland": true,
                      "subunitcolor": "white"
                    },
                    "hoverlabel": {
                      "align": "left"
                    },
                    "hovermode": "closest",
                    "mapbox": {
                      "style": "light"
                    },
                    "paper_bgcolor": "white",
                    "plot_bgcolor": "#E5ECF6",
                    "polar": {
                      "angularaxis": {
                        "gridcolor": "white",
                        "linecolor": "white",
                        "ticks": ""
                      },
                      "bgcolor": "#E5ECF6",
                      "radialaxis": {
                        "gridcolor": "white",
                        "linecolor": "white",
                        "ticks": ""
                      }
                    },
                    "scene": {
                      "xaxis": {
                        "backgroundcolor": "#E5ECF6",
                        "gridcolor": "white",
                        "gridwidth": 2,
                        "linecolor": "white",
                        "showbackground": true,
                        "ticks": "",
                        "zerolinecolor": "white"
                      },
                      "yaxis": {
                        "backgroundcolor": "#E5ECF6",
                        "gridcolor": "white",
                        "gridwidth": 2,
                        "linecolor": "white",
                        "showbackground": true,
                        "ticks": "",
                        "zerolinecolor": "white"
                      },
                      "zaxis": {
                        "backgroundcolor": "#E5ECF6",
                        "gridcolor": "white",
                        "gridwidth": 2,
                        "linecolor": "white",
                        "showbackground": true,
                        "ticks": "",
                        "zerolinecolor": "white"
                      }
                    },
                    "shapedefaults": {
                      "line": {
                        "color": "#2a3f5f"
                      }
                    },
                    "ternary": {
                      "aaxis": {
                        "gridcolor": "white",
                        "linecolor": "white",
                        "ticks": ""
                      },
                      "baxis": {
                        "gridcolor": "white",
                        "linecolor": "white",
                        "ticks": ""
                      },
                      "bgcolor": "#E5ECF6",
                      "caxis": {
                        "gridcolor": "white",
                        "linecolor": "white",
                        "ticks": ""
                      }
                    },
                    "title": {
                      "x": 0.05
                    },
                    "xaxis": {
                      "automargin": true,
                      "gridcolor": "white",
                      "linecolor": "white",
                      "ticks": "",
                      "title": {
                        "standoff": 15
                      },
                      "zerolinecolor": "white",
                      "zerolinewidth": 2
                    },
                    "yaxis": {
                      "automargin": true,
                      "gridcolor": "white",
                      "linecolor": "white",
                      "ticks": "",
                      "title": {
                        "standoff": 15
                      },
                      "zerolinecolor": "white",
                      "zerolinewidth": 2
                    }
                  }
                },
                "title": {
                  "text": "Transacciones totales por dia por canal"
                },
                "xaxis": {
                  "title": {
                    "text": "Date"
                  }
                },
                "yaxis": {
                  "title": {
                    "text": "Total"
                  }
                }
              }
            }
          },
          "metadata": {},
          "output_type": "display_data"
        }
      ],
      "source": [
        "channels = list(data['channelGrouping'].unique())\n",
        "datos = []\n",
        "for channel in channels:\n",
        "    subset = data[data['channelGrouping']==channel]\n",
        "    subset = subset.groupby('date')['transactionRevenue'].agg(['sum'])\n",
        "    subset.columns = [\"Total\"]\n",
        "    subset = subset.sort_index()\n",
        "    trace = go.Scatter(\n",
        "        x = subset['Total'].index,\n",
        "        y = subset['Total'].values,\n",
        "        name=channel,\n",
        "        mode='lines'\n",
        "    )\n",
        "    datos.append(trace)\n",
        "layout= go.Layout(\n",
        "    title= 'Transacciones totales por dia por canal',\n",
        "    xaxis = dict(title = 'Date'), yaxis = dict(title = 'Total'),\n",
        "    showlegend=True,\n",
        ")\n",
        "fig = dict(data=datos, layout=layout)\n",
        "iplot(fig, filename='lines')"
      ]
    },
    {
      "cell_type": "markdown",
      "metadata": {},
      "source": [
        "Se analiza a que canal se pueden atribuir las ventas de un dado periodo. Se ve que los usuarios que entraron en el pico de compras del mes de febrero lo hicieron de manera directa mientras que en abril vienen de display advertising. Esto nos indica que si hubo una campaña en ese mes, esta fue exitosa. "
      ]
    },
    {
      "cell_type": "code",
      "execution_count": 289,
      "metadata": {},
      "outputs": [
        {
          "data": {
            "application/vnd.plotly.v1+json": {
              "config": {
                "linkText": "Export to plot.ly",
                "plotlyServerURL": "https://plot.ly",
                "showLink": false
              },
              "data": [
                {
                  "autocolorscale": false,
                  "colorscale": [
                    [
                      0,
                      "rgb(102,194,165)"
                    ],
                    [
                      0.005,
                      "rgb(102,194,165)"
                    ],
                    [
                      0.01,
                      "rgb(171,221,164)"
                    ],
                    [
                      0.02,
                      "rgb(230,245,152)"
                    ],
                    [
                      0.04,
                      "rgb(255,255,191)"
                    ],
                    [
                      0.05,
                      "rgb(254,224,139)"
                    ],
                    [
                      0.1,
                      "rgb(253,174,97)"
                    ],
                    [
                      0.25,
                      "rgb(213,62,79)"
                    ],
                    [
                      1,
                      "rgb(158,1,66)"
                    ]
                  ],
                  "locationmode": "country names",
                  "locations": [
                    "United States",
                    "India",
                    "United Kingdom",
                    "Canada",
                    "Germany",
                    "Japan",
                    "France",
                    "Spain",
                    "Australia",
                    "Taiwan",
                    "Netherlands",
                    "Brazil",
                    "Italy",
                    "Russia",
                    "Poland",
                    "Mexico",
                    "Turkey",
                    "Singapore",
                    "Ireland",
                    "Indonesia",
                    "Thailand",
                    "Sweden",
                    "Philippines",
                    "Malaysia",
                    "Czechia",
                    "South Korea",
                    "Belgium",
                    "Ukraine",
                    "Vietnam",
                    "Colombia",
                    "Switzerland",
                    "Israel",
                    "Hong Kong",
                    "Argentina",
                    "China",
                    "Pakistan",
                    "Greece",
                    "Denmark",
                    "Peru",
                    "Romania",
                    "Portugal",
                    "Austria",
                    "Saudi Arabia",
                    "Hungary",
                    "Norway",
                    "New Zealand",
                    "Bangladesh",
                    "United Arab Emirates",
                    "Slovakia",
                    "South Africa",
                    "Venezuela",
                    "Egypt",
                    "Chile",
                    "Sri Lanka",
                    "Morocco",
                    "Croatia",
                    "Nigeria",
                    "Algeria",
                    "Bulgaria",
                    "(not set)",
                    "Serbia",
                    "Finland",
                    "Lithuania",
                    "Ecuador",
                    "Latvia",
                    "Puerto Rico",
                    "Belarus",
                    "Estonia",
                    "Kazakhstan",
                    "Slovenia",
                    "Dominican Republic",
                    "Georgia",
                    "Iraq",
                    "Uruguay",
                    "Guatemala",
                    "Tunisia",
                    "Jordan",
                    "Kenya",
                    "Panama",
                    "Kuwait",
                    "Costa Rica",
                    "Bosnia & Herzegovina",
                    "El Salvador",
                    "Cambodia",
                    "Azerbaijan",
                    "Moldova",
                    "Qatar",
                    "Côte d’Ivoire",
                    "Cyprus",
                    "Macedonia (FYROM)",
                    "Ghana",
                    "Armenia",
                    "Bolivia",
                    "Myanmar (Burma)",
                    "Albania",
                    "Tanzania",
                    "Oman",
                    "Jamaica",
                    "Nepal",
                    "Trinidad & Tobago",
                    "Kosovo",
                    "Cameroon",
                    "Palestine",
                    "Honduras",
                    "Laos",
                    "Lebanon",
                    "Malta",
                    "Réunion",
                    "Ethiopia",
                    "Paraguay",
                    "Luxembourg",
                    "Uganda",
                    "Macau",
                    "Bahrain",
                    "Uzbekistan",
                    "Iceland",
                    "Nicaragua",
                    "Senegal",
                    "Kyrgyzstan",
                    "Congo - Kinshasa",
                    "Mauritius",
                    "Montenegro",
                    "Yemen",
                    "Mozambique",
                    "Bahamas",
                    "Libya",
                    "Sudan",
                    "Brunei",
                    "Bermuda",
                    "Zambia",
                    "Afghanistan",
                    "Benin",
                    "Zimbabwe",
                    "Angola",
                    "Martinique",
                    "Burkina Faso",
                    "Jersey",
                    "Guam",
                    "Guinea",
                    "Mauritania",
                    "Somalia",
                    "Madagascar",
                    "Mongolia",
                    "Iran",
                    "Aruba",
                    "Mali",
                    "Barbados",
                    "Maldives",
                    "Fiji",
                    "Guernsey",
                    "Namibia",
                    "Rwanda",
                    "U.S. Virgin Islands",
                    "Guyana",
                    "Curaçao",
                    "New Caledonia",
                    "Suriname",
                    "Guadeloupe",
                    "Haiti",
                    "St. Lucia",
                    "Monaco",
                    "Grenada",
                    "French Polynesia",
                    "Belize",
                    "Cayman Islands",
                    "Botswana",
                    "Papua New Guinea",
                    "Sint Maarten",
                    "Cape Verde",
                    "Northern Mariana Islands",
                    "French Guiana",
                    "St. Kitts & Nevis",
                    "Andorra",
                    "Tajikistan",
                    "Niger",
                    "Sierra Leone",
                    "Mayotte",
                    "Syria",
                    "Gibraltar",
                    "Antigua & Barbuda",
                    "St. Vincent & Grenadines",
                    "Swaziland",
                    "Gambia",
                    "Malawi",
                    "Djibouti",
                    "Liberia",
                    "Burundi",
                    "Greenland",
                    "Turkmenistan",
                    "Togo",
                    "Caribbean Netherlands",
                    "Lesotho",
                    "Gabon",
                    "Dominica",
                    "Seychelles",
                    "Faroe Islands",
                    "Liechtenstein",
                    "Isle of Man",
                    "Cook Islands",
                    "Timor-Leste",
                    "San Marino",
                    "Bhutan",
                    "Vanuatu",
                    "Chad",
                    "Turks & Caicos Islands",
                    "British Virgin Islands",
                    "Anguilla",
                    "Congo - Brazzaville",
                    "Eritrea",
                    "Comoros",
                    "Marshall Islands",
                    "Åland Islands",
                    "St. Barthélemy"
                  ],
                  "marker": {
                    "line": {
                      "color": "#fff",
                      "width": 2
                    }
                  },
                  "reversescale": false,
                  "showscale": true,
                  "text": [
                    "United States",
                    "India",
                    "United Kingdom",
                    "Canada",
                    "Germany",
                    "Japan",
                    "France",
                    "Spain",
                    "Australia",
                    "Taiwan",
                    "Netherlands",
                    "Brazil",
                    "Italy",
                    "Russia",
                    "Poland",
                    "Mexico",
                    "Turkey",
                    "Singapore",
                    "Ireland",
                    "Indonesia",
                    "Thailand",
                    "Sweden",
                    "Philippines",
                    "Malaysia",
                    "Czechia",
                    "South Korea",
                    "Belgium",
                    "Ukraine",
                    "Vietnam",
                    "Colombia",
                    "Switzerland",
                    "Israel",
                    "Hong Kong",
                    "Argentina",
                    "China",
                    "Pakistan",
                    "Greece",
                    "Denmark",
                    "Peru",
                    "Romania",
                    "Portugal",
                    "Austria",
                    "Saudi Arabia",
                    "Hungary",
                    "Norway",
                    "New Zealand",
                    "Bangladesh",
                    "United Arab Emirates",
                    "Slovakia",
                    "South Africa",
                    "Venezuela",
                    "Egypt",
                    "Chile",
                    "Sri Lanka",
                    "Morocco",
                    "Croatia",
                    "Nigeria",
                    "Algeria",
                    "Bulgaria",
                    "(not set)",
                    "Serbia",
                    "Finland",
                    "Lithuania",
                    "Ecuador",
                    "Latvia",
                    "Puerto Rico",
                    "Belarus",
                    "Estonia",
                    "Kazakhstan",
                    "Slovenia",
                    "Dominican Republic",
                    "Georgia",
                    "Iraq",
                    "Uruguay",
                    "Guatemala",
                    "Tunisia",
                    "Jordan",
                    "Kenya",
                    "Panama",
                    "Kuwait",
                    "Costa Rica",
                    "Bosnia & Herzegovina",
                    "El Salvador",
                    "Cambodia",
                    "Azerbaijan",
                    "Moldova",
                    "Qatar",
                    "Côte d’Ivoire",
                    "Cyprus",
                    "Macedonia (FYROM)",
                    "Ghana",
                    "Armenia",
                    "Bolivia",
                    "Myanmar (Burma)",
                    "Albania",
                    "Tanzania",
                    "Oman",
                    "Jamaica",
                    "Nepal",
                    "Trinidad & Tobago",
                    "Kosovo",
                    "Cameroon",
                    "Palestine",
                    "Honduras",
                    "Laos",
                    "Lebanon",
                    "Malta",
                    "Réunion",
                    "Ethiopia",
                    "Paraguay",
                    "Luxembourg",
                    "Uganda",
                    "Macau",
                    "Bahrain",
                    "Uzbekistan",
                    "Iceland",
                    "Nicaragua",
                    "Senegal",
                    "Kyrgyzstan",
                    "Congo - Kinshasa",
                    "Mauritius",
                    "Montenegro",
                    "Yemen",
                    "Mozambique",
                    "Bahamas",
                    "Libya",
                    "Sudan",
                    "Brunei",
                    "Bermuda",
                    "Zambia",
                    "Afghanistan",
                    "Benin",
                    "Zimbabwe",
                    "Angola",
                    "Martinique",
                    "Burkina Faso",
                    "Jersey",
                    "Guam",
                    "Guinea",
                    "Mauritania",
                    "Somalia",
                    "Madagascar",
                    "Mongolia",
                    "Iran",
                    "Aruba",
                    "Mali",
                    "Barbados",
                    "Maldives",
                    "Fiji",
                    "Guernsey",
                    "Namibia",
                    "Rwanda",
                    "U.S. Virgin Islands",
                    "Guyana",
                    "Curaçao",
                    "New Caledonia",
                    "Suriname",
                    "Guadeloupe",
                    "Haiti",
                    "St. Lucia",
                    "Monaco",
                    "Grenada",
                    "French Polynesia",
                    "Belize",
                    "Cayman Islands",
                    "Botswana",
                    "Papua New Guinea",
                    "Sint Maarten",
                    "Cape Verde",
                    "Northern Mariana Islands",
                    "French Guiana",
                    "St. Kitts & Nevis",
                    "Andorra",
                    "Tajikistan",
                    "Niger",
                    "Sierra Leone",
                    "Mayotte",
                    "Syria",
                    "Gibraltar",
                    "Antigua & Barbuda",
                    "St. Vincent & Grenadines",
                    "Swaziland",
                    "Gambia",
                    "Malawi",
                    "Djibouti",
                    "Liberia",
                    "Burundi",
                    "Greenland",
                    "Turkmenistan",
                    "Togo",
                    "Caribbean Netherlands",
                    "Lesotho",
                    "Gabon",
                    "Dominica",
                    "Seychelles",
                    "Faroe Islands",
                    "Liechtenstein",
                    "Isle of Man",
                    "Cook Islands",
                    "Timor-Leste",
                    "San Marino",
                    "Bhutan",
                    "Vanuatu",
                    "Chad",
                    "Turks & Caicos Islands",
                    "British Virgin Islands",
                    "Anguilla",
                    "Congo - Brazzaville",
                    "Eritrea",
                    "Comoros",
                    "Marshall Islands",
                    "Åland Islands",
                    "St. Barthélemy"
                  ],
                  "type": "choropleth",
                  "z": [
                    172224,
                    24361,
                    19274,
                    12308,
                    10467,
                    9669,
                    8439,
                    6502,
                    6412,
                    6177,
                    6049,
                    5704,
                    5460,
                    5104,
                    4488,
                    3921,
                    3765,
                    3320,
                    3078,
                    2970,
                    2857,
                    2739,
                    2619,
                    2536,
                    2526,
                    2457,
                    2371,
                    2345,
                    2334,
                    2300,
                    2198,
                    2160,
                    2129,
                    2072,
                    1698,
                    1541,
                    1537,
                    1501,
                    1482,
                    1413,
                    1374,
                    1350,
                    1181,
                    1174,
                    1115,
                    1098,
                    1024,
                    1012,
                    978,
                    951,
                    903,
                    873,
                    839,
                    823,
                    786,
                    712,
                    680,
                    623,
                    560,
                    545,
                    535,
                    486,
                    457,
                    414,
                    390,
                    389,
                    385,
                    351,
                    349,
                    323,
                    315,
                    308,
                    305,
                    297,
                    260,
                    259,
                    259,
                    220,
                    219,
                    209,
                    205,
                    205,
                    202,
                    186,
                    185,
                    177,
                    176,
                    164,
                    158,
                    148,
                    146,
                    109,
                    107,
                    105,
                    103,
                    100,
                    99,
                    90,
                    84,
                    82,
                    80,
                    80,
                    79,
                    79,
                    74,
                    73,
                    71,
                    70,
                    68,
                    66,
                    65,
                    63,
                    54,
                    54,
                    52,
                    49,
                    48,
                    43,
                    40,
                    39,
                    35,
                    33,
                    33,
                    30,
                    28,
                    27,
                    27,
                    26,
                    26,
                    25,
                    25,
                    24,
                    23,
                    23,
                    21,
                    19,
                    18,
                    18,
                    18,
                    18,
                    18,
                    17,
                    17,
                    17,
                    16,
                    16,
                    16,
                    16,
                    15,
                    14,
                    14,
                    14,
                    14,
                    14,
                    14,
                    13,
                    11,
                    11,
                    10,
                    9,
                    9,
                    9,
                    8,
                    8,
                    7,
                    7,
                    7,
                    7,
                    6,
                    5,
                    5,
                    5,
                    5,
                    5,
                    5,
                    5,
                    5,
                    5,
                    4,
                    4,
                    4,
                    4,
                    4,
                    3,
                    3,
                    3,
                    3,
                    3,
                    3,
                    3,
                    3,
                    2,
                    2,
                    2,
                    2,
                    2,
                    2,
                    2,
                    2,
                    2,
                    2,
                    2,
                    2,
                    2,
                    2,
                    1,
                    1,
                    1,
                    1,
                    1,
                    1,
                    1,
                    1
                  ]
                }
              ],
              "layout": {
                "geo": {
                  "projection": {
                    "type": "mercator"
                  },
                  "showcoastlines": false,
                  "showframe": false
                },
                "height": 680,
                "template": {
                  "data": {
                    "bar": [
                      {
                        "error_x": {
                          "color": "#2a3f5f"
                        },
                        "error_y": {
                          "color": "#2a3f5f"
                        },
                        "marker": {
                          "line": {
                            "color": "#E5ECF6",
                            "width": 0.5
                          },
                          "pattern": {
                            "fillmode": "overlay",
                            "size": 10,
                            "solidity": 0.2
                          }
                        },
                        "type": "bar"
                      }
                    ],
                    "barpolar": [
                      {
                        "marker": {
                          "line": {
                            "color": "#E5ECF6",
                            "width": 0.5
                          },
                          "pattern": {
                            "fillmode": "overlay",
                            "size": 10,
                            "solidity": 0.2
                          }
                        },
                        "type": "barpolar"
                      }
                    ],
                    "carpet": [
                      {
                        "aaxis": {
                          "endlinecolor": "#2a3f5f",
                          "gridcolor": "white",
                          "linecolor": "white",
                          "minorgridcolor": "white",
                          "startlinecolor": "#2a3f5f"
                        },
                        "baxis": {
                          "endlinecolor": "#2a3f5f",
                          "gridcolor": "white",
                          "linecolor": "white",
                          "minorgridcolor": "white",
                          "startlinecolor": "#2a3f5f"
                        },
                        "type": "carpet"
                      }
                    ],
                    "choropleth": [
                      {
                        "colorbar": {
                          "outlinewidth": 0,
                          "ticks": ""
                        },
                        "type": "choropleth"
                      }
                    ],
                    "contour": [
                      {
                        "colorbar": {
                          "outlinewidth": 0,
                          "ticks": ""
                        },
                        "colorscale": [
                          [
                            0,
                            "#0d0887"
                          ],
                          [
                            0.1111111111111111,
                            "#46039f"
                          ],
                          [
                            0.2222222222222222,
                            "#7201a8"
                          ],
                          [
                            0.3333333333333333,
                            "#9c179e"
                          ],
                          [
                            0.4444444444444444,
                            "#bd3786"
                          ],
                          [
                            0.5555555555555556,
                            "#d8576b"
                          ],
                          [
                            0.6666666666666666,
                            "#ed7953"
                          ],
                          [
                            0.7777777777777778,
                            "#fb9f3a"
                          ],
                          [
                            0.8888888888888888,
                            "#fdca26"
                          ],
                          [
                            1,
                            "#f0f921"
                          ]
                        ],
                        "type": "contour"
                      }
                    ],
                    "contourcarpet": [
                      {
                        "colorbar": {
                          "outlinewidth": 0,
                          "ticks": ""
                        },
                        "type": "contourcarpet"
                      }
                    ],
                    "heatmap": [
                      {
                        "colorbar": {
                          "outlinewidth": 0,
                          "ticks": ""
                        },
                        "colorscale": [
                          [
                            0,
                            "#0d0887"
                          ],
                          [
                            0.1111111111111111,
                            "#46039f"
                          ],
                          [
                            0.2222222222222222,
                            "#7201a8"
                          ],
                          [
                            0.3333333333333333,
                            "#9c179e"
                          ],
                          [
                            0.4444444444444444,
                            "#bd3786"
                          ],
                          [
                            0.5555555555555556,
                            "#d8576b"
                          ],
                          [
                            0.6666666666666666,
                            "#ed7953"
                          ],
                          [
                            0.7777777777777778,
                            "#fb9f3a"
                          ],
                          [
                            0.8888888888888888,
                            "#fdca26"
                          ],
                          [
                            1,
                            "#f0f921"
                          ]
                        ],
                        "type": "heatmap"
                      }
                    ],
                    "heatmapgl": [
                      {
                        "colorbar": {
                          "outlinewidth": 0,
                          "ticks": ""
                        },
                        "colorscale": [
                          [
                            0,
                            "#0d0887"
                          ],
                          [
                            0.1111111111111111,
                            "#46039f"
                          ],
                          [
                            0.2222222222222222,
                            "#7201a8"
                          ],
                          [
                            0.3333333333333333,
                            "#9c179e"
                          ],
                          [
                            0.4444444444444444,
                            "#bd3786"
                          ],
                          [
                            0.5555555555555556,
                            "#d8576b"
                          ],
                          [
                            0.6666666666666666,
                            "#ed7953"
                          ],
                          [
                            0.7777777777777778,
                            "#fb9f3a"
                          ],
                          [
                            0.8888888888888888,
                            "#fdca26"
                          ],
                          [
                            1,
                            "#f0f921"
                          ]
                        ],
                        "type": "heatmapgl"
                      }
                    ],
                    "histogram": [
                      {
                        "marker": {
                          "pattern": {
                            "fillmode": "overlay",
                            "size": 10,
                            "solidity": 0.2
                          }
                        },
                        "type": "histogram"
                      }
                    ],
                    "histogram2d": [
                      {
                        "colorbar": {
                          "outlinewidth": 0,
                          "ticks": ""
                        },
                        "colorscale": [
                          [
                            0,
                            "#0d0887"
                          ],
                          [
                            0.1111111111111111,
                            "#46039f"
                          ],
                          [
                            0.2222222222222222,
                            "#7201a8"
                          ],
                          [
                            0.3333333333333333,
                            "#9c179e"
                          ],
                          [
                            0.4444444444444444,
                            "#bd3786"
                          ],
                          [
                            0.5555555555555556,
                            "#d8576b"
                          ],
                          [
                            0.6666666666666666,
                            "#ed7953"
                          ],
                          [
                            0.7777777777777778,
                            "#fb9f3a"
                          ],
                          [
                            0.8888888888888888,
                            "#fdca26"
                          ],
                          [
                            1,
                            "#f0f921"
                          ]
                        ],
                        "type": "histogram2d"
                      }
                    ],
                    "histogram2dcontour": [
                      {
                        "colorbar": {
                          "outlinewidth": 0,
                          "ticks": ""
                        },
                        "colorscale": [
                          [
                            0,
                            "#0d0887"
                          ],
                          [
                            0.1111111111111111,
                            "#46039f"
                          ],
                          [
                            0.2222222222222222,
                            "#7201a8"
                          ],
                          [
                            0.3333333333333333,
                            "#9c179e"
                          ],
                          [
                            0.4444444444444444,
                            "#bd3786"
                          ],
                          [
                            0.5555555555555556,
                            "#d8576b"
                          ],
                          [
                            0.6666666666666666,
                            "#ed7953"
                          ],
                          [
                            0.7777777777777778,
                            "#fb9f3a"
                          ],
                          [
                            0.8888888888888888,
                            "#fdca26"
                          ],
                          [
                            1,
                            "#f0f921"
                          ]
                        ],
                        "type": "histogram2dcontour"
                      }
                    ],
                    "mesh3d": [
                      {
                        "colorbar": {
                          "outlinewidth": 0,
                          "ticks": ""
                        },
                        "type": "mesh3d"
                      }
                    ],
                    "parcoords": [
                      {
                        "line": {
                          "colorbar": {
                            "outlinewidth": 0,
                            "ticks": ""
                          }
                        },
                        "type": "parcoords"
                      }
                    ],
                    "pie": [
                      {
                        "automargin": true,
                        "type": "pie"
                      }
                    ],
                    "scatter": [
                      {
                        "marker": {
                          "colorbar": {
                            "outlinewidth": 0,
                            "ticks": ""
                          }
                        },
                        "type": "scatter"
                      }
                    ],
                    "scatter3d": [
                      {
                        "line": {
                          "colorbar": {
                            "outlinewidth": 0,
                            "ticks": ""
                          }
                        },
                        "marker": {
                          "colorbar": {
                            "outlinewidth": 0,
                            "ticks": ""
                          }
                        },
                        "type": "scatter3d"
                      }
                    ],
                    "scattercarpet": [
                      {
                        "marker": {
                          "colorbar": {
                            "outlinewidth": 0,
                            "ticks": ""
                          }
                        },
                        "type": "scattercarpet"
                      }
                    ],
                    "scattergeo": [
                      {
                        "marker": {
                          "colorbar": {
                            "outlinewidth": 0,
                            "ticks": ""
                          }
                        },
                        "type": "scattergeo"
                      }
                    ],
                    "scattergl": [
                      {
                        "marker": {
                          "colorbar": {
                            "outlinewidth": 0,
                            "ticks": ""
                          }
                        },
                        "type": "scattergl"
                      }
                    ],
                    "scattermapbox": [
                      {
                        "marker": {
                          "colorbar": {
                            "outlinewidth": 0,
                            "ticks": ""
                          }
                        },
                        "type": "scattermapbox"
                      }
                    ],
                    "scatterpolar": [
                      {
                        "marker": {
                          "colorbar": {
                            "outlinewidth": 0,
                            "ticks": ""
                          }
                        },
                        "type": "scatterpolar"
                      }
                    ],
                    "scatterpolargl": [
                      {
                        "marker": {
                          "colorbar": {
                            "outlinewidth": 0,
                            "ticks": ""
                          }
                        },
                        "type": "scatterpolargl"
                      }
                    ],
                    "scatterternary": [
                      {
                        "marker": {
                          "colorbar": {
                            "outlinewidth": 0,
                            "ticks": ""
                          }
                        },
                        "type": "scatterternary"
                      }
                    ],
                    "surface": [
                      {
                        "colorbar": {
                          "outlinewidth": 0,
                          "ticks": ""
                        },
                        "colorscale": [
                          [
                            0,
                            "#0d0887"
                          ],
                          [
                            0.1111111111111111,
                            "#46039f"
                          ],
                          [
                            0.2222222222222222,
                            "#7201a8"
                          ],
                          [
                            0.3333333333333333,
                            "#9c179e"
                          ],
                          [
                            0.4444444444444444,
                            "#bd3786"
                          ],
                          [
                            0.5555555555555556,
                            "#d8576b"
                          ],
                          [
                            0.6666666666666666,
                            "#ed7953"
                          ],
                          [
                            0.7777777777777778,
                            "#fb9f3a"
                          ],
                          [
                            0.8888888888888888,
                            "#fdca26"
                          ],
                          [
                            1,
                            "#f0f921"
                          ]
                        ],
                        "type": "surface"
                      }
                    ],
                    "table": [
                      {
                        "cells": {
                          "fill": {
                            "color": "#EBF0F8"
                          },
                          "line": {
                            "color": "white"
                          }
                        },
                        "header": {
                          "fill": {
                            "color": "#C8D4E3"
                          },
                          "line": {
                            "color": "white"
                          }
                        },
                        "type": "table"
                      }
                    ]
                  },
                  "layout": {
                    "annotationdefaults": {
                      "arrowcolor": "#2a3f5f",
                      "arrowhead": 0,
                      "arrowwidth": 1
                    },
                    "autotypenumbers": "strict",
                    "coloraxis": {
                      "colorbar": {
                        "outlinewidth": 0,
                        "ticks": ""
                      }
                    },
                    "colorscale": {
                      "diverging": [
                        [
                          0,
                          "#8e0152"
                        ],
                        [
                          0.1,
                          "#c51b7d"
                        ],
                        [
                          0.2,
                          "#de77ae"
                        ],
                        [
                          0.3,
                          "#f1b6da"
                        ],
                        [
                          0.4,
                          "#fde0ef"
                        ],
                        [
                          0.5,
                          "#f7f7f7"
                        ],
                        [
                          0.6,
                          "#e6f5d0"
                        ],
                        [
                          0.7,
                          "#b8e186"
                        ],
                        [
                          0.8,
                          "#7fbc41"
                        ],
                        [
                          0.9,
                          "#4d9221"
                        ],
                        [
                          1,
                          "#276419"
                        ]
                      ],
                      "sequential": [
                        [
                          0,
                          "#0d0887"
                        ],
                        [
                          0.1111111111111111,
                          "#46039f"
                        ],
                        [
                          0.2222222222222222,
                          "#7201a8"
                        ],
                        [
                          0.3333333333333333,
                          "#9c179e"
                        ],
                        [
                          0.4444444444444444,
                          "#bd3786"
                        ],
                        [
                          0.5555555555555556,
                          "#d8576b"
                        ],
                        [
                          0.6666666666666666,
                          "#ed7953"
                        ],
                        [
                          0.7777777777777778,
                          "#fb9f3a"
                        ],
                        [
                          0.8888888888888888,
                          "#fdca26"
                        ],
                        [
                          1,
                          "#f0f921"
                        ]
                      ],
                      "sequentialminus": [
                        [
                          0,
                          "#0d0887"
                        ],
                        [
                          0.1111111111111111,
                          "#46039f"
                        ],
                        [
                          0.2222222222222222,
                          "#7201a8"
                        ],
                        [
                          0.3333333333333333,
                          "#9c179e"
                        ],
                        [
                          0.4444444444444444,
                          "#bd3786"
                        ],
                        [
                          0.5555555555555556,
                          "#d8576b"
                        ],
                        [
                          0.6666666666666666,
                          "#ed7953"
                        ],
                        [
                          0.7777777777777778,
                          "#fb9f3a"
                        ],
                        [
                          0.8888888888888888,
                          "#fdca26"
                        ],
                        [
                          1,
                          "#f0f921"
                        ]
                      ]
                    },
                    "colorway": [
                      "#636efa",
                      "#EF553B",
                      "#00cc96",
                      "#ab63fa",
                      "#FFA15A",
                      "#19d3f3",
                      "#FF6692",
                      "#B6E880",
                      "#FF97FF",
                      "#FECB52"
                    ],
                    "font": {
                      "color": "#2a3f5f"
                    },
                    "geo": {
                      "bgcolor": "white",
                      "lakecolor": "white",
                      "landcolor": "#E5ECF6",
                      "showlakes": true,
                      "showland": true,
                      "subunitcolor": "white"
                    },
                    "hoverlabel": {
                      "align": "left"
                    },
                    "hovermode": "closest",
                    "mapbox": {
                      "style": "light"
                    },
                    "paper_bgcolor": "white",
                    "plot_bgcolor": "#E5ECF6",
                    "polar": {
                      "angularaxis": {
                        "gridcolor": "white",
                        "linecolor": "white",
                        "ticks": ""
                      },
                      "bgcolor": "#E5ECF6",
                      "radialaxis": {
                        "gridcolor": "white",
                        "linecolor": "white",
                        "ticks": ""
                      }
                    },
                    "scene": {
                      "xaxis": {
                        "backgroundcolor": "#E5ECF6",
                        "gridcolor": "white",
                        "gridwidth": 2,
                        "linecolor": "white",
                        "showbackground": true,
                        "ticks": "",
                        "zerolinecolor": "white"
                      },
                      "yaxis": {
                        "backgroundcolor": "#E5ECF6",
                        "gridcolor": "white",
                        "gridwidth": 2,
                        "linecolor": "white",
                        "showbackground": true,
                        "ticks": "",
                        "zerolinecolor": "white"
                      },
                      "zaxis": {
                        "backgroundcolor": "#E5ECF6",
                        "gridcolor": "white",
                        "gridwidth": 2,
                        "linecolor": "white",
                        "showbackground": true,
                        "ticks": "",
                        "zerolinecolor": "white"
                      }
                    },
                    "shapedefaults": {
                      "line": {
                        "color": "#2a3f5f"
                      }
                    },
                    "ternary": {
                      "aaxis": {
                        "gridcolor": "white",
                        "linecolor": "white",
                        "ticks": ""
                      },
                      "baxis": {
                        "gridcolor": "white",
                        "linecolor": "white",
                        "ticks": ""
                      },
                      "bgcolor": "#E5ECF6",
                      "caxis": {
                        "gridcolor": "white",
                        "linecolor": "white",
                        "ticks": ""
                      }
                    },
                    "title": {
                      "x": 0.05
                    },
                    "xaxis": {
                      "automargin": true,
                      "gridcolor": "white",
                      "linecolor": "white",
                      "ticks": "",
                      "title": {
                        "standoff": 15
                      },
                      "zerolinecolor": "white",
                      "zerolinewidth": 2
                    },
                    "yaxis": {
                      "automargin": true,
                      "gridcolor": "white",
                      "linecolor": "white",
                      "ticks": "",
                      "title": {
                        "standoff": 15
                      },
                      "zerolinecolor": "white",
                      "zerolinewidth": 2
                    }
                  }
                },
                "title": {
                  "text": "Total visits by Country"
                },
                "width": 1200
              }
            }
          },
          "metadata": {},
          "output_type": "display_data"
        }
      ],
      "source": [
        "def plotmap(frame, z_var, countries_col, title, colorscale, rcolor=True):\n",
        "\n",
        "    dato = [ dict(\n",
        "            type = 'choropleth',\n",
        "            autocolorscale = False,\n",
        "            colorscale = colorscale,\n",
        "            showscale = True,\n",
        "            reversescale = rcolor,\n",
        "            locations = frame[countries_col],\n",
        "            z = frame[z_var],\n",
        "            locationmode = 'country names',\n",
        "            text = frame[countries_col],\n",
        "            marker = dict(line = dict(color = '#fff', width = 2))\n",
        "        )           \n",
        "    ]\n",
        "\n",
        "    layout = dict(\n",
        "        height=680,\n",
        "        width=1200,\n",
        "        title = title,\n",
        "        geo = dict(\n",
        "            showframe = False,\n",
        "            showcoastlines = False,\n",
        "            projection = dict(type = 'mercator'),\n",
        "        ),\n",
        "    )\n",
        "    fig = dict(data=dato, layout=layout)\n",
        "    iplot(fig)\n",
        "\n",
        "colorscale = [[0, 'rgb(102,194,165)'], [0.005, 'rgb(102,194,165)'], [0.01, 'rgb(171,221,164)'], [0.02, 'rgb(230,245,152)'], [0.04, 'rgb(255,255,191)'], [0.05, 'rgb(254,224,139)'], \n",
        "              [0.10, 'rgb(253,174,97)'], [0.25, 'rgb(213,62,79)'], [1.0, 'rgb(158,1,66)']]\n",
        "    \n",
        "# Plot world map - total visits\n",
        "tmp = data[\"country\"].value_counts().to_frame().reset_index()\n",
        "plotmap(tmp, 'country', 'index', 'Total visits by Country', colorscale, False)\n",
        "\n",
        "colorscale = [[0,\"rgb(5, 10, 172)\"],[0.35,\"rgb(40, 60, 190)\"],[0.5,\"rgb(70, 100, 245)\"],\\\n",
        "        [0.6,\"rgb(90, 120, 245)\"],[0.7,\"rgb(106, 137, 247)\"],[1,\"rgb(220, 220, 220)\"]]\n",
        "\n"
      ]
    },
    {
      "cell_type": "markdown",
      "metadata": {},
      "source": [
        "## Modelo\n",
        "\n",
        "### Seleccion del modelo\n",
        "\n",
        "Siendo que nuestro dataset contiene valores faltantes, outliers, variables numericas y variables categoricas decido usar Random Forest. Otra ventaja del metodo es que no se ve muy afectado si hubiera clases desbalanceadas.\n",
        "Al final lo que se busca obtener es la probabilidad de a que clase (compradores o no) pertenece cada instancia (cada visitor).\n",
        "\n",
        " Se considero tambien utilizar un Multilayer Perceptron y Boosted Trees pero el tiempo de ejecucion fue tan elevado que los descarte. \n",
        "\n",
        "Se trabajara con los datos agrupados por cliente como se menciono arriba.\n",
        "\n",
        "0. Tranformamos los datos\n",
        "1. Separamos los datos en train\\test\\validation\n",
        "2. Fiteamos y evaluamos un modelo\n",
        "3. Tuneamos los hiperparametros\n",
        "4. Evaluamos en el set de validacion\n",
        "5. Evaluamos el modelo final en el test set"
      ]
    },
    {
      "cell_type": "markdown",
      "metadata": {},
      "source": [
        "#### 0. Transformamos los datos \n",
        "Las variables categoricas son transformadas a variables dummy para ser utilizadas por el modelo. Como hay muchos paises poco frecuentes en el dataset los agrupo como OTROS."
      ]
    },
    {
      "cell_type": "code",
      "execution_count": 290,
      "metadata": {},
      "outputs": [],
      "source": [
        "# # Elimino países con menos visitas que el 1% de los datos totales\n",
        "client_data['country'] = client_data['country'].astype('category')\n",
        "\n",
        "others = client_data['country'].value_counts().index[5:]\n",
        "label = 'Other'\n",
        "\n",
        "client_data['country'] = client_data['country'].cat.add_categories([label])\n",
        "client_data['country'] = client_data['country'].replace(others, label)\n"
      ]
    },
    {
      "cell_type": "code",
      "execution_count": 291,
      "metadata": {},
      "outputs": [],
      "source": [
        "# # Elimino países con menos visitas que el 1% de los datos totales\n",
        "client_data['source'] = client_data['source'].astype('category')\n",
        "\n",
        "others = client_data['source'].value_counts().index[5:]\n",
        "label = 'Other'\n",
        "\n",
        "client_data['source'] = client_data['source'].cat.add_categories([label])\n",
        "client_data['source'] = client_data['source'].replace(others, label)"
      ]
    },
    {
      "cell_type": "code",
      "execution_count": 292,
      "metadata": {},
      "outputs": [],
      "source": [
        "dataClean = pd.get_dummies(client_data,drop_first=True,columns=[\"source\",\"channelGrouping\",'country'])"
      ]
    },
    {
      "cell_type": "markdown",
      "metadata": {},
      "source": [
        "#### 1. Separamos los datos en train\\test\\validation\n",
        "\n",
        "La variable a predecir sera conversionBool que nos dice si el cliente compro o no. Sacamos columnas que sean redundantes como transactionRevenue y transactions."
      ]
    },
    {
      "cell_type": "code",
      "execution_count": 293,
      "metadata": {},
      "outputs": [],
      "source": [
        "features = dataClean.drop(['conversionBool', 'transactionRevenue',\t'transactions', 'loginToPurchase', 'cohort'], axis=1).astype(float)\n",
        "labels = dataClean['conversionBool'].astype(float)\n",
        "\n",
        "#Quiero dejar datos para validar. Al principio seleccionamos el 40% de la data para el test\n",
        "# y nos quedamos con 60 para el training. Sobre el 40 volvemos a correr tts para tener 20 para validar\n",
        "X_train, X_test, y_train, y_test = train_test_split(features, labels, test_size=0.4, random_state=42)\n",
        "X_val, X_test, y_val, y_test = train_test_split(X_test, y_test, test_size=0.5, random_state=42)\n"
      ]
    },
    {
      "cell_type": "code",
      "execution_count": 294,
      "metadata": {},
      "outputs": [
        {
          "name": "stdout",
          "output_type": "stream",
          "text": [
            "0.6\n",
            "0.2\n",
            "0.2\n"
          ]
        }
      ],
      "source": [
        "for dataset in [y_train, y_val, y_test]:\n",
        "    print(round(len(dataset)/len(labels),2))"
      ]
    },
    {
      "cell_type": "markdown",
      "metadata": {},
      "source": [
        "####\n",
        "2. Fiteamos y evaluamos un modelo\n",
        "3. Tuneamos los hiperparametros"
      ]
    },
    {
      "cell_type": "code",
      "execution_count": 295,
      "metadata": {},
      "outputs": [],
      "source": [
        "def print_results(results):\n",
        "    print('BEST PARAMS: {}\\n'.format(results.best_params_))\n",
        "\n",
        "    means = results.cv_results_['mean_test_score']\n",
        "    stds = results.cv_results_['std_test_score']\n",
        "    for mean, std, params in zip(means, stds, results.cv_results_['params']):\n",
        "        print('{} (+/-{}) for {}'.format(round(mean, 3), round(std * 2, 3), params))"
      ]
    },
    {
      "cell_type": "code",
      "execution_count": 296,
      "metadata": {},
      "outputs": [],
      "source": [
        "#Genero el modelo \n",
        "rf = RandomForestClassifier()\n",
        "parameters = {\n",
        "    'n_estimators': [5, 50],\n",
        "    'max_depth': [2, 4, 8, 16, 32, None]\n",
        "}"
      ]
    },
    {
      "cell_type": "code",
      "execution_count": 297,
      "metadata": {},
      "outputs": [
        {
          "name": "stdout",
          "output_type": "stream",
          "text": [
            "BEST PARAMS: {'max_depth': 16, 'n_estimators': 50}\n",
            "\n",
            "0.985 (+/-0.0) for {'max_depth': 2, 'n_estimators': 5}\n",
            "0.985 (+/-0.0) for {'max_depth': 2, 'n_estimators': 50}\n",
            "0.986 (+/-0.001) for {'max_depth': 4, 'n_estimators': 5}\n",
            "0.985 (+/-0.0) for {'max_depth': 4, 'n_estimators': 50}\n",
            "0.987 (+/-0.001) for {'max_depth': 8, 'n_estimators': 5}\n",
            "0.987 (+/-0.001) for {'max_depth': 8, 'n_estimators': 50}\n",
            "0.986 (+/-0.001) for {'max_depth': 16, 'n_estimators': 5}\n",
            "0.987 (+/-0.0) for {'max_depth': 16, 'n_estimators': 50}\n",
            "0.985 (+/-0.001) for {'max_depth': 32, 'n_estimators': 5}\n",
            "0.986 (+/-0.001) for {'max_depth': 32, 'n_estimators': 50}\n",
            "0.985 (+/-0.001) for {'max_depth': None, 'n_estimators': 5}\n",
            "0.986 (+/-0.0) for {'max_depth': None, 'n_estimators': 50}\n"
          ]
        }
      ],
      "source": [
        "#Hacemos cross validation para la combinacion de hiperparametros que me de mejor performance\n",
        "cv = GridSearchCV(rf, parameters, cv=5)\n",
        "cv.fit(X_train, y_train.values.ravel())\n",
        "\n",
        "print_results(cv)"
      ]
    },
    {
      "cell_type": "markdown",
      "metadata": {},
      "source": [
        "Pruebo diferentes hiperparametros y selecciono los que den mejor performance, en este caso lo que se busca es minimizar la varianza. Una vez elegidos los hiperparametros se fitea el modelo que luego se evaluara segun ciertas metricas.  "
      ]
    },
    {
      "cell_type": "code",
      "execution_count": 303,
      "metadata": {},
      "outputs": [
        {
          "data": {
            "text/plain": [
              "RandomForestClassifier(max_depth=16, n_estimators=50)"
            ]
          },
          "execution_count": 303,
          "metadata": {},
          "output_type": "execute_result"
        }
      ],
      "source": [
        "rf = RandomForestClassifier(max_depth=16, n_estimators=50)\n",
        "rf.fit(X_train, y_train)"
      ]
    },
    {
      "cell_type": "code",
      "execution_count": 304,
      "metadata": {},
      "outputs": [],
      "source": [
        "#Evaluamos el modelo \n",
        "def evaluate_model(name, model, features, labels):\n",
        "    pred = model.predict(features)\n",
        "    accuracy = round(accuracy_score(labels, pred), 3)\n",
        "    precision = round(precision_score(labels, pred), 3)\n",
        "    recall = round(recall_score(labels, pred), 3)\n",
        "    print('{} -- Accuracy: {} / Precision: {} / Recall: {} '.format(name,\n",
        "                                                                    accuracy,\n",
        "                                                                    precision,\n",
        "                                                                    recall,\n",
        "                                                                    ))"
      ]
    },
    {
      "cell_type": "markdown",
      "metadata": {},
      "source": [
        "####\n",
        "4. Evaluamos en el set de validacion\n",
        "En esta instancia si estuviera probando diferentes algoritmos puedo en la etapa de validacion elegir el mejor modelo"
      ]
    },
    {
      "cell_type": "code",
      "execution_count": 305,
      "metadata": {},
      "outputs": [
        {
          "name": "stdout",
          "output_type": "stream",
          "text": [
            "Random Forest -- Accuracy: 0.987 / Precision: 0.651 / Recall: 0.318 \n"
          ]
        }
      ],
      "source": [
        "evaluate_model('Random Forest',rf,X_val, y_val)"
      ]
    },
    {
      "cell_type": "markdown",
      "metadata": {},
      "source": [
        "#####\n",
        "5. Evaluo el modelo en los datos de testeo"
      ]
    },
    {
      "cell_type": "code",
      "execution_count": 306,
      "metadata": {},
      "outputs": [
        {
          "name": "stdout",
          "output_type": "stream",
          "text": [
            "Random Forest -- Accuracy: 0.986 / Precision: 0.604 / Recall: 0.289 \n"
          ]
        }
      ],
      "source": [
        "evaluate_model('Random Forest',rf,X_test, y_test)"
      ]
    },
    {
      "cell_type": "markdown",
      "metadata": {},
      "source": [
        "## Performance Metrics\n",
        "\n",
        "Las metricas que uso para evaluar son: \n",
        "\n",
        "### Accuracy = # predicted correctly/total # examples\n",
        "### Precision = #predicted as buyers that actually bought /total predicted to buy\n",
        "\n",
        "La precision me da una idea de cuanto compraron realmente si el modelo dijo que iba a comprar. \n",
        "\n",
        "### Recall = #predicted as buyers that actually bought /total number that actually bought\n",
        "El recall indica cual es la probabilidad de que el modelo prediga que alguien compro cuando de hecho compraron.\n"
      ]
    },
    {
      "cell_type": "code",
      "execution_count": 307,
      "metadata": {},
      "outputs": [
        {
          "data": {
            "text/plain": [
              "0.009646091224430118"
            ]
          },
          "execution_count": 307,
          "metadata": {},
          "output_type": "execute_result"
        }
      ],
      "source": [
        "#Me fijo en esta instancia la performance del modelo con Brier Score. Lo uso ya que funciona para variables binarias. Buscamos minimizar el valor de loss\n",
        "preds = rf.predict_proba(X_test)[:,1]\n",
        "brier_score_loss(y_test,preds)"
      ]
    }
  ],
  "metadata": {
    "colab": {
      "name": "Challenge_Peroni.ipynb",
      "provenance": [],
      "toc_visible": true
    },
    "kernelspec": {
      "display_name": "Python 3",
      "name": "python3"
    },
    "language_info": {
      "codemirror_mode": {
        "name": "ipython",
        "version": 3
      },
      "file_extension": ".py",
      "mimetype": "text/x-python",
      "name": "python",
      "nbconvert_exporter": "python",
      "pygments_lexer": "ipython3",
      "version": "3.8.10"
    }
  },
  "nbformat": 4,
  "nbformat_minor": 0
}
